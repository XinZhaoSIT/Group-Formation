{
 "cells": [
  {
   "cell_type": "code",
   "execution_count": 1,
   "metadata": {
    "colab": {
     "base_uri": "https://localhost:8080/"
    },
    "id": "2O_oLGXlOztS",
    "outputId": "188ae31e-de0e-49da-8b7f-2456581500a0"
   },
   "outputs": [
    {
     "name": "stdout",
     "output_type": "stream",
     "text": [
      "\u001b[K     |████████████████████████████████| 1.8 MB 5.2 MB/s \n",
      "\u001b[K     |████████████████████████████████| 4.9 MB 37.1 MB/s \n",
      "\u001b[K     |████████████████████████████████| 213 kB 47.4 MB/s \n",
      "\u001b[K     |████████████████████████████████| 90 kB 6.0 MB/s \n",
      "\u001b[K     |████████████████████████████████| 1.1 MB 32.2 MB/s \n",
      "\u001b[K     |████████████████████████████████| 47.6 MB 1.6 MB/s \n",
      "\u001b[K     |████████████████████████████████| 352 kB 54.5 MB/s \n",
      "\u001b[K     |████████████████████████████████| 596 kB 41.0 MB/s \n",
      "\u001b[K     |████████████████████████████████| 1.2 MB 41.5 MB/s \n",
      "\u001b[K     |████████████████████████████████| 99 kB 8.4 MB/s \n",
      "\u001b[K     |████████████████████████████████| 43 kB 1.8 MB/s \n",
      "\u001b[?25h  Building wheel for py-cpuinfo (setup.py) ... \u001b[?25l\u001b[?25hdone\n",
      "  Building wheel for seqeval (setup.py) ... \u001b[?25l\u001b[?25hdone\n"
     ]
    }
   ],
   "source": [
    "!pip install -q tf-models-official"
   ]
  },
  {
   "cell_type": "code",
   "execution_count": 17,
   "metadata": {
    "colab": {
     "base_uri": "https://localhost:8080/",
     "height": 35
    },
    "id": "2TI0zhJvPUq8",
    "outputId": "0f240096-5292-447b-e841-e9565dcb23b1"
   },
   "outputs": [
    {
     "data": {
      "application/vnd.google.colaboratory.intrinsic+json": {
       "type": "string"
      },
      "text/plain": [
       "'2.7.0'"
      ]
     },
     "execution_count": 17,
     "metadata": {},
     "output_type": "execute_result"
    }
   ],
   "source": [
    "import os\n",
    "import shutil\n",
    "\n",
    "import tensorflow as tf\n",
    "import tensorflow_hub as hub\n",
    "import tensorflow_text as text\n",
    "from official.nlp import optimization  # to create AdamW optimizer\n",
    "\n",
    "import numpy as np\n",
    "import pandas as pd\n",
    "import matplotlib.pyplot as plt\n",
    "\n",
    "from sklearn.preprocessing import StandardScaler\n",
    "from sklearn.model_selection import train_test_split\n",
    "\n",
    "from keras import layers\n",
    "from keras import models\n",
    "import keras\n",
    "\n",
    "from sklearn.manifold import TSNE\n",
    "\n",
    "tf.get_logger().setLevel('ERROR')\n",
    "keras.__version__"
   ]
  },
  {
   "cell_type": "code",
   "execution_count": null,
   "metadata": {
    "id": "rrZzhQ1kPYgu"
   },
   "outputs": [],
   "source": [
    "# make sure run in GPU\n",
    "%tensorflow_version 2.x\n",
    "import tensorflow as tf\n",
    "device_name = tf.test.gpu_device_name()\n",
    "if device_name != '/device:GPU:0':\n",
    "  raise SystemError('GPU device not found')\n",
    "print('Found GPU at: {}'.format(device_name))"
   ]
  },
  {
   "cell_type": "code",
   "execution_count": 5,
   "metadata": {
    "colab": {
     "base_uri": "https://localhost:8080/"
    },
    "id": "YWS01HyUPuXA",
    "outputId": "2c3b884b-2fe2-40ff-d32f-4a74db768460"
   },
   "outputs": [
    {
     "name": "stdout",
     "output_type": "stream",
     "text": [
      "Archive:  /content/student_simulation.zip\n",
      "  inflating: student_simulation.csv  \n"
     ]
    }
   ],
   "source": [
    "!unzip '/content/student_simulation.zip'"
   ]
  },
  {
   "cell_type": "code",
   "execution_count": 7,
   "metadata": {
    "colab": {
     "base_uri": "https://localhost:8080/",
     "height": 461
    },
    "id": "agvTvCqbPawj",
    "outputId": "632209bd-3bd0-4b6c-89a7-15866558d277"
   },
   "outputs": [
    {
     "data": {
      "text/html": [
       "<div>\n",
       "<style scoped>\n",
       "    .dataframe tbody tr th:only-of-type {\n",
       "        vertical-align: middle;\n",
       "    }\n",
       "\n",
       "    .dataframe tbody tr th {\n",
       "        vertical-align: top;\n",
       "    }\n",
       "\n",
       "    .dataframe thead th {\n",
       "        text-align: right;\n",
       "    }\n",
       "</style>\n",
       "<table border=\"1\" class=\"dataframe\">\n",
       "  <thead>\n",
       "    <tr style=\"text-align: right;\">\n",
       "      <th></th>\n",
       "      <th>Teamwork</th>\n",
       "      <th>Empathy_skills</th>\n",
       "      <th>Self-control</th>\n",
       "      <th>Ability_to_compromise</th>\n",
       "      <th>Ability_to_teach</th>\n",
       "      <th>Respect_for_others</th>\n",
       "      <th>Openness_to_Criticism</th>\n",
       "      <th>Sensitivity_and_Tact</th>\n",
       "      <th>Gaining_trust</th>\n",
       "      <th>Comfort_with_Differences</th>\n",
       "      <th>Listening_Skills</th>\n",
       "    </tr>\n",
       "  </thead>\n",
       "  <tbody>\n",
       "    <tr>\n",
       "      <th>0</th>\n",
       "      <td>87</td>\n",
       "      <td>80</td>\n",
       "      <td>97</td>\n",
       "      <td>75</td>\n",
       "      <td>99</td>\n",
       "      <td>77</td>\n",
       "      <td>91</td>\n",
       "      <td>72</td>\n",
       "      <td>92</td>\n",
       "      <td>76</td>\n",
       "      <td>78</td>\n",
       "    </tr>\n",
       "    <tr>\n",
       "      <th>1</th>\n",
       "      <td>85</td>\n",
       "      <td>73</td>\n",
       "      <td>83</td>\n",
       "      <td>79</td>\n",
       "      <td>75</td>\n",
       "      <td>64</td>\n",
       "      <td>76</td>\n",
       "      <td>75</td>\n",
       "      <td>74</td>\n",
       "      <td>84</td>\n",
       "      <td>82</td>\n",
       "    </tr>\n",
       "    <tr>\n",
       "      <th>2</th>\n",
       "      <td>89</td>\n",
       "      <td>63</td>\n",
       "      <td>87</td>\n",
       "      <td>87</td>\n",
       "      <td>95</td>\n",
       "      <td>88</td>\n",
       "      <td>72</td>\n",
       "      <td>70</td>\n",
       "      <td>81</td>\n",
       "      <td>90</td>\n",
       "      <td>99</td>\n",
       "    </tr>\n",
       "    <tr>\n",
       "      <th>3</th>\n",
       "      <td>80</td>\n",
       "      <td>74</td>\n",
       "      <td>77</td>\n",
       "      <td>89</td>\n",
       "      <td>82</td>\n",
       "      <td>79</td>\n",
       "      <td>93</td>\n",
       "      <td>76</td>\n",
       "      <td>89</td>\n",
       "      <td>72</td>\n",
       "      <td>76</td>\n",
       "    </tr>\n",
       "    <tr>\n",
       "      <th>4</th>\n",
       "      <td>66</td>\n",
       "      <td>92</td>\n",
       "      <td>70</td>\n",
       "      <td>78</td>\n",
       "      <td>88</td>\n",
       "      <td>89</td>\n",
       "      <td>77</td>\n",
       "      <td>67</td>\n",
       "      <td>78</td>\n",
       "      <td>75</td>\n",
       "      <td>78</td>\n",
       "    </tr>\n",
       "    <tr>\n",
       "      <th>...</th>\n",
       "      <td>...</td>\n",
       "      <td>...</td>\n",
       "      <td>...</td>\n",
       "      <td>...</td>\n",
       "      <td>...</td>\n",
       "      <td>...</td>\n",
       "      <td>...</td>\n",
       "      <td>...</td>\n",
       "      <td>...</td>\n",
       "      <td>...</td>\n",
       "      <td>...</td>\n",
       "    </tr>\n",
       "    <tr>\n",
       "      <th>999995</th>\n",
       "      <td>76</td>\n",
       "      <td>82</td>\n",
       "      <td>82</td>\n",
       "      <td>91</td>\n",
       "      <td>79</td>\n",
       "      <td>84</td>\n",
       "      <td>77</td>\n",
       "      <td>78</td>\n",
       "      <td>84</td>\n",
       "      <td>82</td>\n",
       "      <td>77</td>\n",
       "    </tr>\n",
       "    <tr>\n",
       "      <th>999996</th>\n",
       "      <td>81</td>\n",
       "      <td>85</td>\n",
       "      <td>85</td>\n",
       "      <td>78</td>\n",
       "      <td>88</td>\n",
       "      <td>85</td>\n",
       "      <td>93</td>\n",
       "      <td>82</td>\n",
       "      <td>68</td>\n",
       "      <td>62</td>\n",
       "      <td>77</td>\n",
       "    </tr>\n",
       "    <tr>\n",
       "      <th>999997</th>\n",
       "      <td>85</td>\n",
       "      <td>79</td>\n",
       "      <td>65</td>\n",
       "      <td>77</td>\n",
       "      <td>100</td>\n",
       "      <td>69</td>\n",
       "      <td>91</td>\n",
       "      <td>88</td>\n",
       "      <td>87</td>\n",
       "      <td>70</td>\n",
       "      <td>85</td>\n",
       "    </tr>\n",
       "    <tr>\n",
       "      <th>999998</th>\n",
       "      <td>68</td>\n",
       "      <td>85</td>\n",
       "      <td>84</td>\n",
       "      <td>70</td>\n",
       "      <td>73</td>\n",
       "      <td>84</td>\n",
       "      <td>80</td>\n",
       "      <td>83</td>\n",
       "      <td>71</td>\n",
       "      <td>85</td>\n",
       "      <td>66</td>\n",
       "    </tr>\n",
       "    <tr>\n",
       "      <th>999999</th>\n",
       "      <td>91</td>\n",
       "      <td>60</td>\n",
       "      <td>67</td>\n",
       "      <td>69</td>\n",
       "      <td>95</td>\n",
       "      <td>78</td>\n",
       "      <td>77</td>\n",
       "      <td>85</td>\n",
       "      <td>89</td>\n",
       "      <td>71</td>\n",
       "      <td>83</td>\n",
       "    </tr>\n",
       "  </tbody>\n",
       "</table>\n",
       "<p>1000000 rows × 11 columns</p>\n",
       "</div>"
      ],
      "text/plain": [
       "        Teamwork  Empathy_skills  ...  Comfort_with_Differences  Listening_Skills\n",
       "0             87              80  ...                        76                78\n",
       "1             85              73  ...                        84                82\n",
       "2             89              63  ...                        90                99\n",
       "3             80              74  ...                        72                76\n",
       "4             66              92  ...                        75                78\n",
       "...          ...             ...  ...                       ...               ...\n",
       "999995        76              82  ...                        82                77\n",
       "999996        81              85  ...                        62                77\n",
       "999997        85              79  ...                        70                85\n",
       "999998        68              85  ...                        85                66\n",
       "999999        91              60  ...                        71                83\n",
       "\n",
       "[1000000 rows x 11 columns]"
      ]
     },
     "execution_count": 7,
     "metadata": {},
     "output_type": "execute_result"
    }
   ],
   "source": [
    "df = pd.read_csv('student_simulation.csv')\n",
    "df = df.drop(columns=['gender','race','international_stu','technical_skill','reading_score'])\n",
    "df"
   ]
  },
  {
   "cell_type": "code",
   "execution_count": 8,
   "metadata": {
    "colab": {
     "base_uri": "https://localhost:8080/"
    },
    "id": "AU52vB4IQOoQ",
    "outputId": "d7df6a92-be01-47fa-9750-4d7c81d4dfa2"
   },
   "outputs": [
    {
     "data": {
      "text/plain": [
       "array([[ 7.76994115e-01, -1.13892189e-03,  1.88798999e+00, ...,\n",
       "         1.33125847e+00, -4.45113527e-01, -2.21793222e-01],\n",
       "       [ 5.55027664e-01, -7.78408417e-01,  3.32559852e-01, ...,\n",
       "        -6.66544563e-01,  4.42801396e-01,  2.22563292e-01],\n",
       "       [ 9.98960565e-01, -1.88879341e+00,  7.76968463e-01, ...,\n",
       "         1.10378840e-01,  1.10873759e+00,  2.11107848e+00],\n",
       "       ...,\n",
       "       [ 5.55027664e-01, -1.12177421e-01, -1.66727890e+00, ...,\n",
       "         7.76313185e-01, -1.11104972e+00,  5.55830678e-01],\n",
       "       [-1.33168716e+00,  5.54053575e-01,  4.43662005e-01, ...,\n",
       "        -9.99511736e-01,  5.53790761e-01, -1.55486277e+00],\n",
       "       [ 1.22092702e+00, -2.22190891e+00, -1.44507459e+00, ...,\n",
       "         9.98291300e-01, -1.00006035e+00,  3.33652421e-01]])"
      ]
     },
     "execution_count": 8,
     "metadata": {},
     "output_type": "execute_result"
    }
   ],
   "source": [
    "scaler = StandardScaler()\n",
    "ds = scaler.fit_transform(df)\n",
    "ds"
   ]
  },
  {
   "cell_type": "code",
   "execution_count": 9,
   "metadata": {
    "id": "l0HD2yA9QTSf"
   },
   "outputs": [],
   "source": [
    "from __future__ import print_function\n",
    "import numpy as np\n",
    "import h5py\n",
    "import glob\n",
    "import math\n",
    "import os\n",
    "import shutil\n",
    "from scipy import signal\n",
    "from scipy.signal import butter, lfilter\n",
    "from keras.layers import Input, Dense, Conv1D, MaxPooling1D, UpSampling1D, Flatten, Dropout, Reshape \n",
    "from keras.layers import Bidirectional, BatchNormalization, ZeroPadding1D, Conv2DTranspose\n",
    "from keras.models import Model\n",
    "from keras import backend as K\n",
    "from tensorflow.keras.optimizers import SGD, Adam\n",
    "from keras import regularizers\n",
    "from tensorflow.python.keras.layers import Layer, InputSpec\n",
    "from keras.callbacks import ModelCheckpoint, LearningRateScheduler, ReduceLROnPlateau, EarlyStopping\n",
    "from keras.initializers import VarianceScaling\n",
    "from keras.callbacks import CSVLogger\n",
    "from scipy.optimize import linear_sum_assignment as linear_assignment\n",
    "from sklearn.decomposition import PCA\n",
    "from sklearn.cluster import KMeans\n",
    "import matplotlib.pyplot as plt\n",
    "from matplotlib.pyplot import savefig\n",
    "\n",
    "import seaborn as sns\n",
    "sns.set_style('darkgrid')\n",
    "sns.set_palette('muted')"
   ]
  },
  {
   "cell_type": "code",
   "execution_count": 11,
   "metadata": {
    "colab": {
     "base_uri": "https://localhost:8080/"
    },
    "id": "gCIsUSF7QWx8",
    "outputId": "ca9fdb0f-5d84-43e2-905e-c61009e21e73"
   },
   "outputs": [
    {
     "name": "stdout",
     "output_type": "stream",
     "text": [
      "Model: \"autoencoder\"\n",
      "_________________________________________________________________\n",
      " Layer (type)                Output Shape              Param #   \n",
      "=================================================================\n",
      " input_2 (InputLayer)        [(None, 11, 1)]           0         \n",
      "                                                                 \n",
      " conv1d_5 (Conv1D)           (None, 11, 4)             48        \n",
      "                                                                 \n",
      " max_pooling1d_2 (MaxPooling  (None, 11, 4)            0         \n",
      " 1D)                                                             \n",
      "                                                                 \n",
      " conv1d_6 (Conv1D)           (None, 11, 2)             90        \n",
      "                                                                 \n",
      " max_pooling1d_3 (MaxPooling  (None, 11, 2)            0         \n",
      " 1D)                                                             \n",
      "                                                                 \n",
      " flatten_1 (Flatten)         (None, 22)                0         \n",
      "                                                                 \n",
      " reshape_1 (Reshape)         (None, 11, 2)             0         \n",
      "                                                                 \n",
      " conv1d_7 (Conv1D)           (None, 11, 2)             46        \n",
      "                                                                 \n",
      " up_sampling1d_2 (UpSampling  (None, 11, 2)            0         \n",
      " 1D)                                                             \n",
      "                                                                 \n",
      " conv1d_8 (Conv1D)           (None, 11, 4)             92        \n",
      "                                                                 \n",
      " up_sampling1d_3 (UpSampling  (None, 11, 4)            0         \n",
      " 1D)                                                             \n",
      "                                                                 \n",
      " conv1d_9 (Conv1D)           (None, 11, 1)             45        \n",
      "                                                                 \n",
      "=================================================================\n",
      "Total params: 321\n",
      "Trainable params: 321\n",
      "Non-trainable params: 0\n",
      "_________________________________________________________________\n"
     ]
    }
   ],
   "source": [
    "inp = Input(shape=(11,1))  \n",
    "e = Conv1D(4, (11, ), activation='tanh', padding='same')(inp)\n",
    "e = MaxPooling1D((1, ), padding='same')(e)\n",
    "e = Conv1D(2, (11, ), activation='tanh', padding='same')(e)\n",
    "e = MaxPooling1D((1, ), padding='same')(e)\n",
    "\n",
    "shape_before_flattening = K.int_shape(e)\n",
    "encoded = Flatten()(e)\n",
    "d = Reshape(shape_before_flattening[1:])(encoded)\n",
    "\n",
    "d = Conv1D(2, (11, ), activation='tanh', padding='same')(d)\n",
    "d = UpSampling1D(1)(d)\n",
    "d = Conv1D(4, (11, ), activation='tanh', padding='same')(d)\n",
    "d = UpSampling1D(1)(d)\n",
    "decoded = Conv1D(1, (11, ), padding='same')(d)\n",
    "\n",
    "autoencoder = Model(inputs=inp, outputs=decoded, name='autoencoder')\n",
    "encoder = Model(inputs=inp, outputs=encoded, name='encoder')\n",
    "autoencoder.summary()"
   ]
  },
  {
   "cell_type": "code",
   "execution_count": 12,
   "metadata": {
    "colab": {
     "base_uri": "https://localhost:8080/"
    },
    "id": "GeC4HHSdQgVY",
    "outputId": "7923a806-fa2c-44af-ec61-36df3abb4a12"
   },
   "outputs": [
    {
     "name": "stdout",
     "output_type": "stream",
     "text": [
      "Epoch 1/10\n",
      "7813/7813 [==============================] - 98s 12ms/step - loss: 0.0157 - val_loss: 2.9560e-04\n",
      "Epoch 2/10\n",
      "7813/7813 [==============================] - 96s 12ms/step - loss: 1.8161e-04 - val_loss: 1.1201e-04\n",
      "Epoch 3/10\n",
      "7813/7813 [==============================] - 77s 10ms/step - loss: 1.0124e-04 - val_loss: 9.4023e-05\n",
      "Epoch 4/10\n",
      "7813/7813 [==============================] - 96s 12ms/step - loss: 7.7403e-05 - val_loss: 5.6597e-05\n",
      "Epoch 5/10\n",
      "7813/7813 [==============================] - 76s 10ms/step - loss: 6.5105e-05 - val_loss: 6.6062e-05\n",
      "Epoch 6/10\n",
      "7813/7813 [==============================] - 96s 12ms/step - loss: 5.7018e-05 - val_loss: 8.9640e-05\n",
      "Epoch 7/10\n",
      "7813/7813 [==============================] - 74s 10ms/step - loss: 5.1861e-05 - val_loss: 3.9417e-05\n",
      "Epoch 8/10\n",
      "7813/7813 [==============================] - 75s 10ms/step - loss: 4.7620e-05 - val_loss: 4.5034e-05\n",
      "Epoch 9/10\n",
      "7813/7813 [==============================] - 74s 9ms/step - loss: 4.4864e-05 - val_loss: 4.2324e-05\n",
      "Epoch 10/10\n",
      "7813/7813 [==============================] - 95s 12ms/step - loss: 4.1940e-05 - val_loss: 4.1915e-05\n"
     ]
    },
    {
     "data": {
      "text/plain": [
       "<keras.callbacks.History at 0x7fe6b26133d0>"
      ]
     },
     "execution_count": 12,
     "metadata": {},
     "output_type": "execute_result"
    }
   ],
   "source": [
    "autoencoder.compile(optimizer='adam', loss='mse')\n",
    "\n",
    "autoencoder.fit(ds, ds, batch_size=128, epochs=10, validation_data=(ds,ds))"
   ]
  },
  {
   "cell_type": "code",
   "execution_count": 21,
   "metadata": {
    "id": "5MShOchHW9F5"
   },
   "outputs": [],
   "source": [
    "n_clusters = 4\n",
    "kmeans = KMeans(n_clusters=n_clusters, n_init=20)\n",
    "y_pred = kmeans.fit_predict(encoder.predict(ds))"
   ]
  },
  {
   "cell_type": "code",
   "execution_count": 22,
   "metadata": {
    "colab": {
     "base_uri": "https://localhost:8080/",
     "height": 423
    },
    "id": "jefdrTLzX_JG",
    "outputId": "0e372fef-01aa-4f9f-aae3-89a133783abb"
   },
   "outputs": [
    {
     "data": {
      "text/html": [
       "<div>\n",
       "<style scoped>\n",
       "    .dataframe tbody tr th:only-of-type {\n",
       "        vertical-align: middle;\n",
       "    }\n",
       "\n",
       "    .dataframe tbody tr th {\n",
       "        vertical-align: top;\n",
       "    }\n",
       "\n",
       "    .dataframe thead th {\n",
       "        text-align: right;\n",
       "    }\n",
       "</style>\n",
       "<table border=\"1\" class=\"dataframe\">\n",
       "  <thead>\n",
       "    <tr style=\"text-align: right;\">\n",
       "      <th></th>\n",
       "      <th>label</th>\n",
       "    </tr>\n",
       "  </thead>\n",
       "  <tbody>\n",
       "    <tr>\n",
       "      <th>0</th>\n",
       "      <td>3</td>\n",
       "    </tr>\n",
       "    <tr>\n",
       "      <th>1</th>\n",
       "      <td>1</td>\n",
       "    </tr>\n",
       "    <tr>\n",
       "      <th>2</th>\n",
       "      <td>3</td>\n",
       "    </tr>\n",
       "    <tr>\n",
       "      <th>3</th>\n",
       "      <td>2</td>\n",
       "    </tr>\n",
       "    <tr>\n",
       "      <th>4</th>\n",
       "      <td>1</td>\n",
       "    </tr>\n",
       "    <tr>\n",
       "      <th>...</th>\n",
       "      <td>...</td>\n",
       "    </tr>\n",
       "    <tr>\n",
       "      <th>999995</th>\n",
       "      <td>3</td>\n",
       "    </tr>\n",
       "    <tr>\n",
       "      <th>999996</th>\n",
       "      <td>2</td>\n",
       "    </tr>\n",
       "    <tr>\n",
       "      <th>999997</th>\n",
       "      <td>0</td>\n",
       "    </tr>\n",
       "    <tr>\n",
       "      <th>999998</th>\n",
       "      <td>1</td>\n",
       "    </tr>\n",
       "    <tr>\n",
       "      <th>999999</th>\n",
       "      <td>0</td>\n",
       "    </tr>\n",
       "  </tbody>\n",
       "</table>\n",
       "<p>1000000 rows × 1 columns</p>\n",
       "</div>"
      ],
      "text/plain": [
       "        label\n",
       "0           3\n",
       "1           1\n",
       "2           3\n",
       "3           2\n",
       "4           1\n",
       "...       ...\n",
       "999995      3\n",
       "999996      2\n",
       "999997      0\n",
       "999998      1\n",
       "999999      0\n",
       "\n",
       "[1000000 rows x 1 columns]"
      ]
     },
     "execution_count": 22,
     "metadata": {},
     "output_type": "execute_result"
    }
   ],
   "source": [
    "label = pd.DataFrame(y_pred,columns=['label'])\n",
    "label"
   ]
  },
  {
   "cell_type": "code",
   "execution_count": 23,
   "metadata": {
    "id": "pITGe3L9YBtR"
   },
   "outputs": [],
   "source": [
    "dd = pd.concat([df, label], axis=1)"
   ]
  },
  {
   "cell_type": "code",
   "execution_count": 24,
   "metadata": {
    "id": "6NwJMZAqYLw7"
   },
   "outputs": [],
   "source": [
    "filter_data = dd[0:5000]\n",
    "label = np.array(filter_data.label)\n",
    "u_labels_filter = np.unique(filter_data.label)"
   ]
  },
  {
   "cell_type": "code",
   "execution_count": 25,
   "metadata": {
    "colab": {
     "base_uri": "https://localhost:8080/"
    },
    "id": "2uj6nyFUYOEd",
    "outputId": "5d4400bb-a928-446a-fe00-164b2f5f8e27"
   },
   "outputs": [
    {
     "name": "stderr",
     "output_type": "stream",
     "text": [
      "/usr/local/lib/python3.7/dist-packages/sklearn/manifold/_t_sne.py:783: FutureWarning: The default initialization in TSNE will change from 'random' to 'pca' in 1.2.\n",
      "  FutureWarning,\n",
      "/usr/local/lib/python3.7/dist-packages/sklearn/manifold/_t_sne.py:793: FutureWarning: The default learning rate in TSNE will change from 200.0 to 'auto' in 1.2.\n",
      "  FutureWarning,\n"
     ]
    }
   ],
   "source": [
    "enc = encoder.predict(ds[0:5000])\n",
    "redu = TSNE(random_state=123).fit_transform(enc)"
   ]
  },
  {
   "cell_type": "code",
   "execution_count": 26,
   "metadata": {
    "colab": {
     "base_uri": "https://localhost:8080/",
     "height": 265
    },
    "id": "ZV3z-NWPYR8a",
    "outputId": "e12194e1-05d4-4a9d-c90f-d86078d2a6c3"
   },
   "outputs": [
    {
     "data": {
      "image/png": "[encoded data removed]",
      "text/plain": [
       "<Figure size 432x288 with 1 Axes>"
      ]
     },
     "metadata": {},
     "output_type": "display_data"
    }
   ],
   "source": [
    "# Plot 5000 samples\n",
    "for i in u_labels_filter:\n",
    "    plt.scatter(redu[label==i,0],redu[label==i,1],label=i)\n",
    "plt.legend()\n",
    "plt.show()"
   ]
  },
  {
   "cell_type": "code",
   "execution_count": 27,
   "metadata": {
    "id": "G_19NO_PZnCP"
   },
   "outputs": [],
   "source": [
    "compression_opts = dict(method='zip', archive_name='skill_data_label.csv')  \n",
    "dd.to_csv('skill_label.zip', index=False, compression=compression_opts)"
   ]
  },
  {
   "cell_type": "code",
   "execution_count": 98,
   "metadata": {
    "colab": {
     "base_uri": "https://localhost:8080/",
     "height": 275
    },
    "id": "padwAp7VZ7XI",
    "outputId": "dafe0580-f4f4-4255-f777-dc29546446f3"
   },
   "outputs": [
    {
     "data": {
      "text/html": [
       "<div>\n",
       "<style scoped>\n",
       "    .dataframe tbody tr th:only-of-type {\n",
       "        vertical-align: middle;\n",
       "    }\n",
       "\n",
       "    .dataframe tbody tr th {\n",
       "        vertical-align: top;\n",
       "    }\n",
       "\n",
       "    .dataframe thead tr th {\n",
       "        text-align: left;\n",
       "    }\n",
       "\n",
       "    .dataframe thead tr:last-of-type th {\n",
       "        text-align: right;\n",
       "    }\n",
       "</style>\n",
       "<table border=\"1\" class=\"dataframe\">\n",
       "  <thead>\n",
       "    <tr>\n",
       "      <th></th>\n",
       "      <th colspan=\"11\" halign=\"left\">mean</th>\n",
       "    </tr>\n",
       "    <tr>\n",
       "      <th></th>\n",
       "      <th>Ability_to_compromise</th>\n",
       "      <th>Ability_to_teach</th>\n",
       "      <th>Comfort_with_Differences</th>\n",
       "      <th>Empathy_skills</th>\n",
       "      <th>Gaining_trust</th>\n",
       "      <th>Listening_Skills</th>\n",
       "      <th>Openness_to_Criticism</th>\n",
       "      <th>Respect_for_others</th>\n",
       "      <th>Self-control</th>\n",
       "      <th>Sensitivity_and_Tact</th>\n",
       "      <th>Teamwork</th>\n",
       "    </tr>\n",
       "    <tr>\n",
       "      <th>label</th>\n",
       "      <th></th>\n",
       "      <th></th>\n",
       "      <th></th>\n",
       "      <th></th>\n",
       "      <th></th>\n",
       "      <th></th>\n",
       "      <th></th>\n",
       "      <th></th>\n",
       "      <th></th>\n",
       "      <th></th>\n",
       "      <th></th>\n",
       "    </tr>\n",
       "  </thead>\n",
       "  <tbody>\n",
       "    <tr>\n",
       "      <th>0</th>\n",
       "      <td>75.747302</td>\n",
       "      <td>79.819552</td>\n",
       "      <td>83.075668</td>\n",
       "      <td>77.335724</td>\n",
       "      <td>83.023831</td>\n",
       "      <td>83.304130</td>\n",
       "      <td>79.460293</td>\n",
       "      <td>79.929627</td>\n",
       "      <td>77.371782</td>\n",
       "      <td>85.454334</td>\n",
       "      <td>76.646502</td>\n",
       "    </tr>\n",
       "    <tr>\n",
       "      <th>1</th>\n",
       "      <td>78.856119</td>\n",
       "      <td>77.846010</td>\n",
       "      <td>77.474547</td>\n",
       "      <td>80.817845</td>\n",
       "      <td>75.637781</td>\n",
       "      <td>76.885786</td>\n",
       "      <td>77.888883</td>\n",
       "      <td>76.752286</td>\n",
       "      <td>75.336310</td>\n",
       "      <td>76.140835</td>\n",
       "      <td>75.225232</td>\n",
       "    </tr>\n",
       "    <tr>\n",
       "      <th>2</th>\n",
       "      <td>81.028625</td>\n",
       "      <td>78.014854</td>\n",
       "      <td>76.687248</td>\n",
       "      <td>76.670768</td>\n",
       "      <td>79.768509</td>\n",
       "      <td>78.074821</td>\n",
       "      <td>79.017423</td>\n",
       "      <td>80.972151</td>\n",
       "      <td>84.258470</td>\n",
       "      <td>75.715293</td>\n",
       "      <td>85.856003</td>\n",
       "    </tr>\n",
       "    <tr>\n",
       "      <th>3</th>\n",
       "      <td>84.291545</td>\n",
       "      <td>84.224302</td>\n",
       "      <td>82.776674</td>\n",
       "      <td>85.016492</td>\n",
       "      <td>81.677487</td>\n",
       "      <td>81.752570</td>\n",
       "      <td>83.557509</td>\n",
       "      <td>82.379204</td>\n",
       "      <td>83.144326</td>\n",
       "      <td>82.648148</td>\n",
       "      <td>82.389685</td>\n",
       "    </tr>\n",
       "  </tbody>\n",
       "</table>\n",
       "</div>"
      ],
      "text/plain": [
       "                       mean                   ...                                \n",
       "      Ability_to_compromise Ability_to_teach  ... Sensitivity_and_Tact   Teamwork\n",
       "label                                         ...                                \n",
       "0                 75.747302        79.819552  ...            85.454334  76.646502\n",
       "1                 78.856119        77.846010  ...            76.140835  75.225232\n",
       "2                 81.028625        78.014854  ...            75.715293  85.856003\n",
       "3                 84.291545        84.224302  ...            82.648148  82.389685\n",
       "\n",
       "[4 rows x 11 columns]"
      ]
     },
     "execution_count": 98,
     "metadata": {},
     "output_type": "execute_result"
    }
   ],
   "source": [
    "table = pd.pivot_table(dd, values=['Teamwork','Empathy_skills','Self-control','Ability_to_compromise',\\\n",
    "                    'Ability_to_teach','Respect_for_others','Openness_to_Criticism','Sensitivity_and_Tact',\\\n",
    "                             'Gaining_trust','Comfort_with_Differences','Listening_Skills'],\\\n",
    "                    index=['label'],\n",
    "                    aggfunc=[np.mean])\n",
    "table"
   ]
  },
  {
   "cell_type": "code",
   "execution_count": 91,
   "metadata": {
    "colab": {
     "base_uri": "https://localhost:8080/",
     "height": 206
    },
    "id": "8Yy6ZQ_wa13R",
    "outputId": "64e30ca5-2c57-483d-f1be-6e6e67d9ed53"
   },
   "outputs": [
    {
     "data": {
      "text/html": [
       "<div>\n",
       "<style scoped>\n",
       "    .dataframe tbody tr th:only-of-type {\n",
       "        vertical-align: middle;\n",
       "    }\n",
       "\n",
       "    .dataframe tbody tr th {\n",
       "        vertical-align: top;\n",
       "    }\n",
       "\n",
       "    .dataframe thead th {\n",
       "        text-align: right;\n",
       "    }\n",
       "</style>\n",
       "<table border=\"1\" class=\"dataframe\">\n",
       "  <thead>\n",
       "    <tr style=\"text-align: right;\">\n",
       "      <th></th>\n",
       "      <th>count</th>\n",
       "    </tr>\n",
       "    <tr>\n",
       "      <th>label</th>\n",
       "      <th></th>\n",
       "    </tr>\n",
       "  </thead>\n",
       "  <tbody>\n",
       "    <tr>\n",
       "      <th>0</th>\n",
       "      <td>246658</td>\n",
       "    </tr>\n",
       "    <tr>\n",
       "      <th>1</th>\n",
       "      <td>254426</td>\n",
       "    </tr>\n",
       "    <tr>\n",
       "      <th>2</th>\n",
       "      <td>244852</td>\n",
       "    </tr>\n",
       "    <tr>\n",
       "      <th>3</th>\n",
       "      <td>254064</td>\n",
       "    </tr>\n",
       "  </tbody>\n",
       "</table>\n",
       "</div>"
      ],
      "text/plain": [
       "        count\n",
       "label        \n",
       "0      246658\n",
       "1      254426\n",
       "2      244852\n",
       "3      254064"
      ]
     },
     "execution_count": 91,
     "metadata": {},
     "output_type": "execute_result"
    }
   ],
   "source": [
    "table2 = pd.pivot_table(dd,values='Teamwork',\\\n",
    "                    index=['label'],\n",
    "                     aggfunc='count')\n",
    "table2.rename(columns={'Teamwork':'count'}, inplace=True)\n",
    "table2"
   ]
  },
  {
   "cell_type": "code",
   "execution_count": 44,
   "metadata": {
    "colab": {
     "base_uri": "https://localhost:8080/"
    },
    "id": "UhviUXZpbMAn",
    "outputId": "ee4b246b-129c-4aa9-f8a6-02a087e46e4e"
   },
   "outputs": [
    {
     "data": {
      "text/plain": [
       "Teamwork                    79.998995\n",
       "Empathy_skills              80.010257\n",
       "Self-control                80.006720\n",
       "Ability_to_compromise       80.002193\n",
       "Ability_to_teach            79.994636\n",
       "Respect_for_others          79.998842\n",
       "Openness_to_Criticism       79.993003\n",
       "Sensitivity_and_Tact        79.987163\n",
       "Gaining_trust               80.005498\n",
       "Comfort_with_Differences    80.010416\n",
       "Listening_Skills            79.996534\n",
       "label                        1.506322\n",
       "dtype: float64"
      ]
     },
     "execution_count": 44,
     "metadata": {},
     "output_type": "execute_result"
    }
   ],
   "source": [
    "dd.mean()"
   ]
  }
 ],
 "metadata": {
  "accelerator": "GPU",
  "colab": {
   "name": "BIA_686_group_formation3.ipynb",
   "provenance": []
  },
  "kernelspec": {
   "display_name": "Python 3 (ipykernel)",
   "language": "python",
   "name": "python3"
  },
  "language_info": {
   "codemirror_mode": {
    "name": "ipython",
    "version": 3
   },
   "file_extension": ".py",
   "mimetype": "text/x-python",
   "name": "python",
   "nbconvert_exporter": "python",
   "pygments_lexer": "ipython3",
   "version": "3.8.8"
  }
 },
 "nbformat": 4,
 "nbformat_minor": 1
}

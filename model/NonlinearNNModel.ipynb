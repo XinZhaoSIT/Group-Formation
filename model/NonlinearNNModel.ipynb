{
  "nbformat": 4,
  "nbformat_minor": 0,
  "metadata": {
    "colab": {
      "name": "NonlinearNNModel.ipynb",
      "provenance": [],
      "collapsed_sections": []
    },
    "kernelspec": {
      "name": "python3",
      "display_name": "Python 3"
    },
    "language_info": {
      "name": "python"
    },
    "accelerator": "GPU"
  },
  "cells": [
    {
      "cell_type": "markdown",
      "metadata": {
        "id": "7G0vOqwVcO74"
      },
      "source": [
        "# Nonlinear Neural Networks"
      ]
    },
    {
      "cell_type": "code",
      "metadata": {
        "colab": {
          "base_uri": "https://localhost:8080/",
          "height": 682
        },
        "id": "c0uq5N-uphKg",
        "outputId": "f921e7ca-6e62-4962-f1a8-677bc6c78210"
      },
      "source": [
        "# Load\n",
        "import pandas as pd\n",
        "df = pd.read_csv('student_simulation.csv')\n",
        "\n",
        "import matplotlib.pyplot as plt\n",
        "from sklearn.decomposition import PCA\n",
        "import numpy as np\n",
        "\n",
        "# Pre-label data with Kmeans\n",
        "from sklearn.preprocessing import OrdinalEncoder\n",
        "enc = OrdinalEncoder()\n",
        "df[['gender','race','international_stu','technical_skill']] = enc.fit_transform(df[['gender','race','international_stu','technical_skill']])\n",
        "df[['gender','race','international_stu','technical_skill']] = df[['gender','race','international_stu','technical_skill']].astype(int)\n",
        "from sklearn.cluster import KMeans\n",
        "df_sample = df[:200000]\n",
        "kmeans = KMeans(5)\n",
        "identified_clusters = kmeans.fit_predict(df_sample)\n",
        "for i in range(len(identified_clusters)):\n",
        "  df_sample.at[i,'kmeans_label']=identified_clusters[i]\n",
        "df_sample[['kmeans_label']] = df_sample[['kmeans_label']].astype(int)\n",
        "# Distribution of labels\n",
        "print(df_sample['kmeans_label'].value_counts())\n",
        "# Plot\n",
        "label = np.array(df_sample.kmeans_label)\n",
        "u_labels_df_sample = np.unique(df_sample.kmeans_label)\n",
        "pca_df_sample = df_sample.drop(columns='kmeans_label')\n",
        "pca_sample = PCA(2)\n",
        "pca_df_sample = pca_sample.fit_transform(pca_df_sample)\n",
        "for i in u_labels_df_sample:\n",
        "    plt.scatter(pca_df_sample[label==i,0],pca_df_sample[label==i,1],label=i)\n",
        "plt.legend()\n",
        "plt.show()\n"
      ],
      "execution_count": null,
      "outputs": [
        {
          "output_type": "stream",
          "name": "stderr",
          "text": [
            "/usr/local/lib/python3.7/dist-packages/pandas/core/indexing.py:1596: SettingWithCopyWarning: \n",
            "A value is trying to be set on a copy of a slice from a DataFrame.\n",
            "Try using .loc[row_indexer,col_indexer] = value instead\n",
            "\n",
            "See the caveats in the documentation: https://pandas.pydata.org/pandas-docs/stable/user_guide/indexing.html#returning-a-view-versus-a-copy\n",
            "  self.obj[key] = _infer_fill_value(value)\n",
            "/usr/local/lib/python3.7/dist-packages/pandas/core/indexing.py:1763: SettingWithCopyWarning: \n",
            "A value is trying to be set on a copy of a slice from a DataFrame.\n",
            "Try using .loc[row_indexer,col_indexer] = value instead\n",
            "\n",
            "See the caveats in the documentation: https://pandas.pydata.org/pandas-docs/stable/user_guide/indexing.html#returning-a-view-versus-a-copy\n",
            "  isetter(loc, value)\n",
            "/usr/local/lib/python3.7/dist-packages/pandas/core/frame.py:3069: SettingWithCopyWarning: \n",
            "A value is trying to be set on a copy of a slice from a DataFrame.\n",
            "Try using .loc[row_indexer,col_indexer] = value instead\n",
            "\n",
            "See the caveats in the documentation: https://pandas.pydata.org/pandas-docs/stable/user_guide/indexing.html#returning-a-view-versus-a-copy\n",
            "  self[k1] = value[k2]\n"
          ]
        },
        {
          "output_type": "stream",
          "name": "stdout",
          "text": [
            "2    40365\n",
            "1    40188\n",
            "0    40139\n",
            "4    39880\n",
            "3    39428\n",
            "Name: kmeans_label, dtype: int64\n"
          ]
        },
        {
          "output_type": "display_data",
          "data": {
            "image/png": "[encoded data removed]",
            "text/plain": [
              "<Figure size 432x288 with 1 Axes>"
            ]
          },
          "metadata": {
            "needs_background": "light"
          }
        }
      ]
    },
    {
      "cell_type": "code",
      "metadata": {
        "id": "x2sHEEjeXd6Y"
      },
      "source": [
        "# Packages\n",
        "import torch\n",
        "import torch.nn as nn\n",
        "\n",
        "# Class dataset\n",
        "from torch.utils.data import Dataset, DataLoader, random_split\n",
        "class SIMULATE_dataset(Dataset):\n",
        "    def __init__(self, featuers, labels):\n",
        "        self.length = len(labels)\n",
        "        self.features = torch.Tensor(featuers)\n",
        "        self.labels = torch.LongTensor(labels)\n",
        "    \n",
        "    def __getitem__(self, index):\n",
        "        return self.features[index], self.labels[index]\n",
        "    \n",
        "    def __len__(self):\n",
        "        return self.length   \n",
        "\n",
        "# Convert dataset\n",
        "train_x = df_sample.iloc[:100000,:16].values\n",
        "test_x = df_sample.iloc[100000:,:16].values\n",
        "train_y = df_sample.iloc[:100000,16].values\n",
        "test_y = df_sample.iloc[100000:,16].values\n",
        "\n",
        "train_dataset = SIMULATE_dataset(train_x, train_y)\n",
        "test_dataset = SIMULATE_dataset(test_x, test_y)\n"
      ],
      "execution_count": null,
      "outputs": []
    },
    {
      "cell_type": "code",
      "metadata": {
        "id": "gnwq16ykgeZO"
      },
      "source": [
        "# NN models\n",
        "class linear_model(nn.Module):\n",
        "    def __init__(self, hidden_units1, hidden_units2=None):\n",
        "        super(linear_model, self).__init__()\n",
        "        if hidden_units2 == None:\n",
        "            self.classifier = nn.Sequential(\n",
        "                nn.Linear(in_features=16, out_features=hidden_units1),\n",
        "                nn.ReLU(),\n",
        "                nn.Linear(in_features=hidden_units1, out_features=5)\n",
        "            )\n",
        "        else:\n",
        "            self.classifier = nn.Sequential(\n",
        "                nn.Linear(in_features=16, out_features=hidden_units1),\n",
        "                nn.ReLU(),\n",
        "                nn.Linear(in_features=hidden_units1, out_features=hidden_units2),\n",
        "                nn.ReLU(),\n",
        "                nn.Linear(in_features=hidden_units2, out_features=5)\n",
        "          )\n",
        "\n",
        "    def forward(self, x):\n",
        "        output = x\n",
        "        output = self.classifier(x)\n",
        "        #torch.nn.functional.relu(x)\n",
        "        \n",
        "        return output\n"
      ],
      "execution_count": null,
      "outputs": []
    },
    {
      "cell_type": "code",
      "metadata": {
        "id": "wEz2YYTZnbnt"
      },
      "source": [
        "# Define a function to train the model \n",
        "def train_model(model, train_dataset, test_dataset, device,\\\n",
        "                lr=0.0005, epochs=20, batch_size=32):\n",
        "    \n",
        "    # construct dataloader\n",
        "    train_loader = DataLoader(train_dataset, batch_size=batch_size, shuffle=True)\n",
        "    test_loader = DataLoader(test_dataset, batch_size=batch_size, shuffle=True)\n",
        "\n",
        "    # move model to device\n",
        "    model = model.to(device)\n",
        "\n",
        "    # history\n",
        "    history = {'train_loss': [],\n",
        "               'train_acc': [],\n",
        "               'test_loss': [],\n",
        "               'test_acc': []}\n",
        "    # setup loss function and optimizer\n",
        "    optimizer = torch.optim.RMSprop(model.parameters(), lr=lr)\n",
        "    criterion = nn.CrossEntropyLoss()\n",
        "    # early stopping\n",
        "    min_eval_loss = 10000\n",
        "    epochs_no_improvement = 0\n",
        "    \n",
        "    # define training function\n",
        "    print('Training Start')\n",
        "    for epoch in range(epochs):\n",
        "        model.train()\n",
        "        train_loss = 0\n",
        "        train_acc = 0\n",
        "        test_loss = 0\n",
        "        test_acc = 0\n",
        "\n",
        "        for x, y in train_loader:\n",
        "            # move data to device\n",
        "            x = x.to(device)\n",
        "            y = y.to(device)\n",
        "            # forward\n",
        "            outputs = model(x)\n",
        "            _, pred_class = torch.max(outputs, dim=1)\n",
        "            cur_train_loss = criterion(outputs, y)\n",
        "            cur_train_acc = (pred_class == y).sum().item() / batch_size\n",
        "            # backward\n",
        "            cur_train_loss.backward()\n",
        "            optimizer.step()\n",
        "            optimizer.zero_grad()\n",
        "            # loss and acc\n",
        "            train_loss += cur_train_loss\n",
        "            train_acc += cur_train_acc\n",
        "      \n",
        "        # test start\n",
        "        model.eval()\n",
        "        with torch.no_grad():\n",
        "            for x, y in test_loader:\n",
        "                # move\n",
        "                x = x.to(device)\n",
        "                y = y.to(device)\n",
        "                # predict\n",
        "                outputs = model(x)\n",
        "                _, pred_class = torch.max(outputs, dim=1)\n",
        "                cur_test_loss = criterion(outputs, y)\n",
        "                cur_test_acc = (pred_class == y).sum().item() / batch_size \n",
        "                # loss and acc\n",
        "                test_loss += cur_test_loss\n",
        "                test_acc += cur_test_acc\n",
        "\n",
        "        # epoch output\n",
        "        train_loss = (train_loss/len(train_loader)).item()\n",
        "        train_acc = train_acc/len(train_loader)\n",
        "        val_loss = (test_loss/len(test_loader)).item()\n",
        "        val_acc = test_acc/len(test_loader)\n",
        "        history['train_loss'].append(train_loss)\n",
        "        history['train_acc'].append(train_acc)\n",
        "        history['test_loss'].append(val_loss)\n",
        "        history['test_acc'].append(val_acc)\n",
        "        print(f\"Epoch:{epoch + 1} / {epochs}, train loss:{train_loss:.5f} train_acc:{train_acc:.5f}, valid loss:{val_loss:.5f} valid acc:{val_acc:.5f}\")\n",
        "\n",
        "        # early stopping\n",
        "        if val_loss < min_eval_loss:\n",
        "            torch.save(model.state_dict(), 'model.pth')\n",
        "            print('model saved!')\n",
        "            epochs_no_improvement = 0\n",
        "            min_eval_loss = val_loss\n",
        "        else:\n",
        "            epochs_no_improvement += 1\n",
        "      \n",
        "        if epoch == 50:\n",
        "            print('early stopping!')\n",
        "            break\n",
        "        \n",
        "\n",
        "    return history\n"
      ],
      "execution_count": null,
      "outputs": []
    },
    {
      "cell_type": "code",
      "metadata": {
        "colab": {
          "base_uri": "https://localhost:8080/"
        },
        "id": "zLDh96GvU8nl",
        "outputId": "3ce50af9-374a-46e9-f4dd-601a8e7aa19f"
      },
      "source": [
        "# Train\n",
        "model = linear_model(32)\n",
        "device = 'cuda' if torch.cuda.is_available() else 'cpu'\n",
        "history = train_model(model=model,\n",
        "                      train_dataset=train_dataset,\n",
        "                      test_dataset=test_dataset,\n",
        "                      device=device,\n",
        "                      lr=0.0005,\n",
        "                      epochs=100,\n",
        "                      batch_size=32)\n"
      ],
      "execution_count": null,
      "outputs": [
        {
          "output_type": "stream",
          "name": "stdout",
          "text": [
            "Training Start\n",
            "Epoch:1 / 100, train loss:0.72995 train_acc:0.73536, valid loss:0.49196 valid acc:0.80738\n",
            "model saved!\n",
            "Epoch:2 / 100, train loss:0.47278 train_acc:0.80935, valid loss:0.43718 valid acc:0.82702\n",
            "model saved!\n",
            "Epoch:3 / 100, train loss:0.45443 train_acc:0.81440, valid loss:0.46822 valid acc:0.80489\n",
            "Epoch:4 / 100, train loss:0.44832 train_acc:0.81649, valid loss:0.48217 valid acc:0.79839\n",
            "Epoch:5 / 100, train loss:0.44419 train_acc:0.81834, valid loss:0.45425 valid acc:0.81089\n",
            "Epoch:6 / 100, train loss:0.44226 train_acc:0.81915, valid loss:0.41598 valid acc:0.83299\n",
            "model saved!\n",
            "Epoch:7 / 100, train loss:0.43859 train_acc:0.82073, valid loss:0.42909 valid acc:0.82648\n",
            "Epoch:8 / 100, train loss:0.43612 train_acc:0.82118, valid loss:0.42711 valid acc:0.82312\n",
            "Epoch:9 / 100, train loss:0.43402 train_acc:0.82323, valid loss:0.41293 valid acc:0.83157\n",
            "model saved!\n",
            "Epoch:10 / 100, train loss:0.43137 train_acc:0.82319, valid loss:0.46237 valid acc:0.81226\n",
            "Epoch:11 / 100, train loss:0.42881 train_acc:0.82398, valid loss:0.42624 valid acc:0.83225\n",
            "Epoch:12 / 100, train loss:0.42750 train_acc:0.82459, valid loss:0.42840 valid acc:0.82416\n",
            "Epoch:13 / 100, train loss:0.42563 train_acc:0.82657, valid loss:0.42934 valid acc:0.82408\n",
            "Epoch:14 / 100, train loss:0.42287 train_acc:0.82572, valid loss:0.40675 valid acc:0.83507\n",
            "model saved!\n",
            "Epoch:15 / 100, train loss:0.42091 train_acc:0.82592, valid loss:0.41763 valid acc:0.82962\n",
            "Epoch:16 / 100, train loss:0.41893 train_acc:0.82770, valid loss:0.42980 valid acc:0.82458\n",
            "Epoch:17 / 100, train loss:0.41743 train_acc:0.82914, valid loss:0.43964 valid acc:0.81938\n",
            "Epoch:18 / 100, train loss:0.41584 train_acc:0.82937, valid loss:0.41543 valid acc:0.82977\n",
            "Epoch:19 / 100, train loss:0.41274 train_acc:0.83133, valid loss:0.44032 valid acc:0.81435\n",
            "Epoch:20 / 100, train loss:0.41149 train_acc:0.83062, valid loss:0.42586 valid acc:0.82736\n",
            "Epoch:21 / 100, train loss:0.40835 train_acc:0.83178, valid loss:0.41124 valid acc:0.83343\n",
            "Epoch:22 / 100, train loss:0.40817 train_acc:0.83149, valid loss:0.38974 valid acc:0.84160\n",
            "model saved!\n",
            "Epoch:23 / 100, train loss:0.40567 train_acc:0.83327, valid loss:0.40757 valid acc:0.82968\n",
            "Epoch:24 / 100, train loss:0.40360 train_acc:0.83376, valid loss:0.40107 valid acc:0.83682\n",
            "Epoch:25 / 100, train loss:0.40038 train_acc:0.83507, valid loss:0.39434 valid acc:0.84358\n",
            "Epoch:26 / 100, train loss:0.39905 train_acc:0.83559, valid loss:0.40622 valid acc:0.83476\n",
            "Epoch:27 / 100, train loss:0.39790 train_acc:0.83549, valid loss:0.44635 valid acc:0.81580\n",
            "Epoch:28 / 100, train loss:0.39437 train_acc:0.83709, valid loss:0.38622 valid acc:0.84439\n",
            "model saved!\n",
            "Epoch:29 / 100, train loss:0.39342 train_acc:0.83756, valid loss:0.38721 valid acc:0.83917\n",
            "Epoch:30 / 100, train loss:0.38998 train_acc:0.83906, valid loss:0.37867 valid acc:0.84728\n",
            "model saved!\n",
            "Epoch:31 / 100, train loss:0.38870 train_acc:0.83977, valid loss:0.42519 valid acc:0.82910\n",
            "Epoch:32 / 100, train loss:0.38522 train_acc:0.84008, valid loss:0.39203 valid acc:0.83926\n",
            "Epoch:33 / 100, train loss:0.38358 train_acc:0.84203, valid loss:0.36900 valid acc:0.84819\n",
            "model saved!\n",
            "Epoch:34 / 100, train loss:0.38114 train_acc:0.84150, valid loss:0.37364 valid acc:0.84571\n",
            "Epoch:35 / 100, train loss:0.37926 train_acc:0.84226, valid loss:0.37335 valid acc:0.84568\n",
            "Epoch:36 / 100, train loss:0.37642 train_acc:0.84356, valid loss:0.36154 valid acc:0.85187\n",
            "model saved!\n",
            "Epoch:37 / 100, train loss:0.37374 train_acc:0.84510, valid loss:0.38582 valid acc:0.84214\n",
            "Epoch:38 / 100, train loss:0.37212 train_acc:0.84551, valid loss:0.40250 valid acc:0.82955\n",
            "Epoch:39 / 100, train loss:0.36967 train_acc:0.84654, valid loss:0.35809 valid acc:0.85237\n",
            "model saved!\n",
            "Epoch:40 / 100, train loss:0.36799 train_acc:0.84761, valid loss:0.37115 valid acc:0.84401\n",
            "Epoch:41 / 100, train loss:0.36559 train_acc:0.84685, valid loss:0.37097 valid acc:0.84317\n",
            "Epoch:42 / 100, train loss:0.36376 train_acc:0.84853, valid loss:0.35440 valid acc:0.85262\n",
            "model saved!\n",
            "Epoch:43 / 100, train loss:0.36011 train_acc:0.84950, valid loss:0.36621 valid acc:0.84587\n",
            "Epoch:44 / 100, train loss:0.35916 train_acc:0.84972, valid loss:0.35096 valid acc:0.85219\n",
            "model saved!\n",
            "Epoch:45 / 100, train loss:0.35691 train_acc:0.85132, valid loss:0.35450 valid acc:0.84928\n",
            "Epoch:46 / 100, train loss:0.35536 train_acc:0.85201, valid loss:0.35063 valid acc:0.85831\n",
            "model saved!\n",
            "Epoch:47 / 100, train loss:0.35159 train_acc:0.85431, valid loss:0.34717 valid acc:0.85773\n",
            "model saved!\n",
            "Epoch:48 / 100, train loss:0.34897 train_acc:0.85446, valid loss:0.38125 valid acc:0.83945\n",
            "Epoch:49 / 100, train loss:0.34842 train_acc:0.85400, valid loss:0.42977 valid acc:0.82499\n",
            "Epoch:50 / 100, train loss:0.34609 train_acc:0.85525, valid loss:0.33229 valid acc:0.86430\n",
            "model saved!\n",
            "Epoch:51 / 100, train loss:0.34350 train_acc:0.85607, valid loss:0.34823 valid acc:0.85331\n",
            "early stopping!\n"
          ]
        }
      ]
    },
    {
      "cell_type": "code",
      "metadata": {
        "id": "q6KFHk-Kj1if"
      },
      "source": [
        "# Predict the rest of df\n",
        "predict = torch.Tensor(df.values)\n",
        "predict = predict.to(device)\n",
        "\n",
        "model.load_state_dict(torch.load('model.pth'))\n",
        "outputs = model(predict)\n",
        "_, pred_class = torch.max(outputs, dim=1)\n",
        "\n",
        "for i in range(len(pred_class)):\n",
        "  df.at[i,'label'] = pred_class[i].item()\n",
        "\n",
        "df[['label']] = df[['label']].astype(int)\n"
      ],
      "execution_count": null,
      "outputs": []
    },
    {
      "cell_type": "markdown",
      "metadata": {
        "id": "cScNirqKhUhe"
      },
      "source": [
        "## Visualization & Summary"
      ]
    },
    {
      "cell_type": "code",
      "metadata": {
        "colab": {
          "base_uri": "https://localhost:8080/",
          "height": 265
        },
        "id": "343tmav5lDC4",
        "outputId": "12699ee9-e9d4-4adc-f83a-45dd5cf99bf8"
      },
      "source": [
        "# Plot 1000 samples\n",
        "filter_data = df.sample(1000)\n",
        "label = np.array(filter_data.label)\n",
        "u_labels_filter = np.unique(filter_data.label)\n",
        "pca_filter_data = filter_data.drop(columns='label')\n",
        "pca_filter = PCA(2)\n",
        "pca_filter_data = pca_filter.fit_transform(pca_filter_data)\n",
        "for i in u_labels_filter:\n",
        "    plt.scatter(pca_filter_data[label==i,0],pca_filter_data[label==i,1],label=i)\n",
        "plt.legend()\n",
        "plt.show()\n"
      ],
      "execution_count": null,
      "outputs": [
        {
          "output_type": "display_data",
          "data": {
            "image/png": "[encoded data removed]",
            "text/plain": [
              "<Figure size 432x288 with 1 Axes>"
            ]
          },
          "metadata": {
            "needs_background": "light"
          }
        }
      ]
    },
    {
      "cell_type": "code",
      "metadata": {
        "colab": {
          "base_uri": "https://localhost:8080/",
          "height": 17
        },
        "id": "48EvfmsFrKwZ",
        "outputId": "200bcb9f-66b6-4d27-ed6b-a142563aa630"
      },
      "source": [
        "# download\n",
        "df.to_csv('label_linearNN.csv', index=False)\n",
        "from google.colab import files\n",
        "files.download('label_linearNN.csv')\n"
      ],
      "execution_count": null,
      "outputs": [
        {
          "output_type": "display_data",
          "data": {
            "application/javascript": [
              "\n",
              "    async function download(id, filename, size) {\n",
              "      if (!google.colab.kernel.accessAllowed) {\n",
              "        return;\n",
              "      }\n",
              "      const div = document.createElement('div');\n",
              "      const label = document.createElement('label');\n",
              "      label.textContent = `Downloading \"${filename}\": `;\n",
              "      div.appendChild(label);\n",
              "      const progress = document.createElement('progress');\n",
              "      progress.max = size;\n",
              "      div.appendChild(progress);\n",
              "      document.body.appendChild(div);\n",
              "\n",
              "      const buffers = [];\n",
              "      let downloaded = 0;\n",
              "\n",
              "      const channel = await google.colab.kernel.comms.open(id);\n",
              "      // Send a message to notify the kernel that we're ready.\n",
              "      channel.send({})\n",
              "\n",
              "      for await (const message of channel.messages) {\n",
              "        // Send a message to notify the kernel that we're ready.\n",
              "        channel.send({})\n",
              "        if (message.buffers) {\n",
              "          for (const buffer of message.buffers) {\n",
              "            buffers.push(buffer);\n",
              "            downloaded += buffer.byteLength;\n",
              "            progress.value = downloaded;\n",
              "          }\n",
              "        }\n",
              "      }\n",
              "      const blob = new Blob(buffers, {type: 'application/binary'});\n",
              "      const a = document.createElement('a');\n",
              "      a.href = window.URL.createObjectURL(blob);\n",
              "      a.download = filename;\n",
              "      div.appendChild(a);\n",
              "      a.click();\n",
              "      div.remove();\n",
              "    }\n",
              "  "
            ],
            "text/plain": [
              "<IPython.core.display.Javascript object>"
            ]
          },
          "metadata": {}
        },
        {
          "output_type": "display_data",
          "data": {
            "application/javascript": [
              "download(\"download_f3ab5f8d-ef7c-4e0f-ab2c-7cdab67409d6\", \"label_linearNN.csv\", 45166994)"
            ],
            "text/plain": [
              "<IPython.core.display.Javascript object>"
            ]
          },
          "metadata": {}
        }
      ]
    },
    {
      "cell_type": "code",
      "metadata": {
        "id": "TcQFvuJWFw2X"
      },
      "source": [
        "import pandas as pd\n",
        "pivot_df = pd.read_csv('label_linearNN.csv')\n",
        "import numpy as np\n"
      ],
      "execution_count": null,
      "outputs": []
    },
    {
      "cell_type": "code",
      "metadata": {
        "colab": {
          "base_uri": "https://localhost:8080/",
          "height": 275
        },
        "id": "I-zB8oPUFsbr",
        "outputId": "023744eb-6615-46df-f343-cf22e5c0da16"
      },
      "source": [
        "table = pd.pivot_table(pivot_df, values=['gender','reading_score','Teamwork','Empathy_skills','Self-control','Ability_to_compromise',\\\n",
        "                    'Ability_to_teach','Respect_for_others','Openness_to_Criticism','Sensitivity_and_Tact',\\\n",
        "                             'Gaining_trust','Comfort_with_Differences','Listening_Skills'],\\\n",
        "                    index=['label'],\n",
        "                    aggfunc=np.mean)\n",
        "table\n"
      ],
      "execution_count": null,
      "outputs": [
        {
          "output_type": "execute_result",
          "data": {
            "text/html": [
              "<div>\n",
              "<style scoped>\n",
              "    .dataframe tbody tr th:only-of-type {\n",
              "        vertical-align: middle;\n",
              "    }\n",
              "\n",
              "    .dataframe tbody tr th {\n",
              "        vertical-align: top;\n",
              "    }\n",
              "\n",
              "    .dataframe thead th {\n",
              "        text-align: right;\n",
              "    }\n",
              "</style>\n",
              "<table border=\"1\" class=\"dataframe\">\n",
              "  <thead>\n",
              "    <tr style=\"text-align: right;\">\n",
              "      <th></th>\n",
              "      <th>Ability_to_compromise</th>\n",
              "      <th>Ability_to_teach</th>\n",
              "      <th>Comfort_with_Differences</th>\n",
              "      <th>Empathy_skills</th>\n",
              "      <th>Gaining_trust</th>\n",
              "      <th>Listening_Skills</th>\n",
              "      <th>Openness_to_Criticism</th>\n",
              "      <th>Respect_for_others</th>\n",
              "      <th>Self-control</th>\n",
              "      <th>Sensitivity_and_Tact</th>\n",
              "      <th>Teamwork</th>\n",
              "      <th>gender</th>\n",
              "      <th>reading_score</th>\n",
              "    </tr>\n",
              "    <tr>\n",
              "      <th>label</th>\n",
              "      <th></th>\n",
              "      <th></th>\n",
              "      <th></th>\n",
              "      <th></th>\n",
              "      <th></th>\n",
              "      <th></th>\n",
              "      <th></th>\n",
              "      <th></th>\n",
              "      <th></th>\n",
              "      <th></th>\n",
              "      <th></th>\n",
              "      <th></th>\n",
              "      <th></th>\n",
              "    </tr>\n",
              "  </thead>\n",
              "  <tbody>\n",
              "    <tr>\n",
              "      <th>0</th>\n",
              "      <td>74.600541</td>\n",
              "      <td>78.777953</td>\n",
              "      <td>83.211306</td>\n",
              "      <td>78.073402</td>\n",
              "      <td>79.945225</td>\n",
              "      <td>74.550831</td>\n",
              "      <td>84.465847</td>\n",
              "      <td>77.182999</td>\n",
              "      <td>78.853775</td>\n",
              "      <td>80.413215</td>\n",
              "      <td>86.328382</td>\n",
              "      <td>0.508193</td>\n",
              "      <td>3.205416</td>\n",
              "    </tr>\n",
              "    <tr>\n",
              "      <th>1</th>\n",
              "      <td>83.374420</td>\n",
              "      <td>74.764023</td>\n",
              "      <td>80.788818</td>\n",
              "      <td>76.118101</td>\n",
              "      <td>84.266473</td>\n",
              "      <td>81.335691</td>\n",
              "      <td>80.687882</td>\n",
              "      <td>77.447052</td>\n",
              "      <td>85.758983</td>\n",
              "      <td>83.720559</td>\n",
              "      <td>77.389168</td>\n",
              "      <td>0.491527</td>\n",
              "      <td>3.108422</td>\n",
              "    </tr>\n",
              "    <tr>\n",
              "      <th>2</th>\n",
              "      <td>82.934824</td>\n",
              "      <td>80.902152</td>\n",
              "      <td>76.824496</td>\n",
              "      <td>86.817034</td>\n",
              "      <td>74.842661</td>\n",
              "      <td>83.220170</td>\n",
              "      <td>80.029949</td>\n",
              "      <td>74.112732</td>\n",
              "      <td>78.685975</td>\n",
              "      <td>80.546008</td>\n",
              "      <td>80.532900</td>\n",
              "      <td>0.502426</td>\n",
              "      <td>3.179409</td>\n",
              "    </tr>\n",
              "    <tr>\n",
              "      <th>3</th>\n",
              "      <td>76.048280</td>\n",
              "      <td>80.360588</td>\n",
              "      <td>76.597009</td>\n",
              "      <td>80.235362</td>\n",
              "      <td>79.050365</td>\n",
              "      <td>81.936590</td>\n",
              "      <td>75.390597</td>\n",
              "      <td>88.218288</td>\n",
              "      <td>81.305680</td>\n",
              "      <td>80.614014</td>\n",
              "      <td>82.299034</td>\n",
              "      <td>0.494958</td>\n",
              "      <td>3.151137</td>\n",
              "    </tr>\n",
              "    <tr>\n",
              "      <th>4</th>\n",
              "      <td>83.347692</td>\n",
              "      <td>84.256506</td>\n",
              "      <td>83.081475</td>\n",
              "      <td>78.211061</td>\n",
              "      <td>82.477096</td>\n",
              "      <td>78.682840</td>\n",
              "      <td>80.077875</td>\n",
              "      <td>81.892261</td>\n",
              "      <td>76.136239</td>\n",
              "      <td>75.251871</td>\n",
              "      <td>73.514224</td>\n",
              "      <td>0.505029</td>\n",
              "      <td>3.198194</td>\n",
              "    </tr>\n",
              "  </tbody>\n",
              "</table>\n",
              "</div>"
            ],
            "text/plain": [
              "       Ability_to_compromise  Ability_to_teach  ...    gender  reading_score\n",
              "label                                           ...                         \n",
              "0                  74.600541         78.777953  ...  0.508193       3.205416\n",
              "1                  83.374420         74.764023  ...  0.491527       3.108422\n",
              "2                  82.934824         80.902152  ...  0.502426       3.179409\n",
              "3                  76.048280         80.360588  ...  0.494958       3.151137\n",
              "4                  83.347692         84.256506  ...  0.505029       3.198194\n",
              "\n",
              "[5 rows x 13 columns]"
            ]
          },
          "metadata": {},
          "execution_count": 5
        }
      ]
    },
    {
      "cell_type": "code",
      "metadata": {
        "id": "FAnDFuZ9GOCD"
      },
      "source": [
        ""
      ],
      "execution_count": null,
      "outputs": []
    }
  ]
}
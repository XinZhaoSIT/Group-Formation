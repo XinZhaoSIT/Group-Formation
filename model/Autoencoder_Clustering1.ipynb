{
 "cells": [
  {
   "cell_type": "code",
   "execution_count": 1,
   "metadata": {
    "colab": {
     "base_uri": "https://localhost:8080/"
    },
    "id": "838MapTzNFox",
    "outputId": "f39d6309-98b9-41c5-b000-f2b5b85bad01"
   },
   "outputs": [
    {
     "name": "stdout",
     "output_type": "stream",
     "text": [
      "\u001b[K     |████████████████████████████████| 1.8 MB 5.4 MB/s \n",
      "\u001b[K     |████████████████████████████████| 4.9 MB 38.8 MB/s \n",
      "\u001b[K     |████████████████████████████████| 1.2 MB 40.2 MB/s \n",
      "\u001b[K     |████████████████████████████████| 43 kB 1.7 MB/s \n",
      "\u001b[K     |████████████████████████████████| 352 kB 48.3 MB/s \n",
      "\u001b[K     |████████████████████████████████| 596 kB 35.9 MB/s \n",
      "\u001b[K     |████████████████████████████████| 1.1 MB 41.9 MB/s \n",
      "\u001b[K     |████████████████████████████████| 213 kB 50.0 MB/s \n",
      "\u001b[K     |████████████████████████████████| 90 kB 9.7 MB/s \n",
      "\u001b[K     |████████████████████████████████| 47.6 MB 2.9 MB/s \n",
      "\u001b[K     |████████████████████████████████| 99 kB 8.2 MB/s \n",
      "\u001b[?25h  Building wheel for py-cpuinfo (setup.py) ... \u001b[?25l\u001b[?25hdone\n",
      "  Building wheel for seqeval (setup.py) ... \u001b[?25l\u001b[?25hdone\n"
     ]
    }
   ],
   "source": [
    "!pip install -q tf-models-official"
   ]
  },
  {
   "cell_type": "code",
   "execution_count": 2,
   "metadata": {
    "colab": {
     "base_uri": "https://localhost:8080/",
     "height": 35
    },
    "id": "QtsLOH7GZv7k",
    "outputId": "034f2596-da6e-4f5c-f7ab-f4af5bcbfa18"
   },
   "outputs": [
    {
     "data": {
      "application/vnd.google.colaboratory.intrinsic+json": {
       "type": "string"
      },
      "text/plain": [
       "'2.7.0'"
      ]
     },
     "execution_count": 2,
     "metadata": {},
     "output_type": "execute_result"
    }
   ],
   "source": [
    "import os\n",
    "import shutil\n",
    "\n",
    "import tensorflow as tf\n",
    "import tensorflow_hub as hub\n",
    "import tensorflow_text as text\n",
    "from official.nlp import optimization  # to create AdamW optimizer\n",
    "\n",
    "import numpy as np\n",
    "import pandas as pd\n",
    "import matplotlib.pyplot as plt\n",
    "\n",
    "from sklearn.preprocessing import StandardScaler\n",
    "from sklearn.model_selection import train_test_split\n",
    "\n",
    "from keras import layers\n",
    "from keras import models\n",
    "import keras\n",
    "\n",
    "tf.get_logger().setLevel('ERROR')\n",
    "keras.__version__"
   ]
  },
  {
   "cell_type": "code",
   "execution_count": 3,
   "metadata": {
    "colab": {
     "base_uri": "https://localhost:8080/"
    },
    "id": "KLaN2jtnZzPw",
    "outputId": "ae0429b5-724d-4afb-d590-d83abf7b310b"
   },
   "outputs": [
    {
     "name": "stdout",
     "output_type": "stream",
     "text": [
      "Found GPU at: /device:GPU:0\n"
     ]
    }
   ],
   "source": [
    "# make sure run in GPU\n",
    "%tensorflow_version 2.x\n",
    "import tensorflow as tf\n",
    "device_name = tf.test.gpu_device_name()\n",
    "if device_name != '/device:GPU:0':\n",
    "  raise SystemError('GPU device not found')\n",
    "print('Found GPU at: {}'.format(device_name))"
   ]
  },
  {
   "cell_type": "code",
   "execution_count": 4,
   "metadata": {
    "colab": {
     "base_uri": "https://localhost:8080/",
     "height": 565
    },
    "id": "EOZWiMdrZ6L0",
    "outputId": "f9e777e7-4318-413b-e884-bd91d6ce1bfb"
   },
   "outputs": [
    {
     "data": {
      "text/html": [
       "<div>\n",
       "<style scoped>\n",
       "    .dataframe tbody tr th:only-of-type {\n",
       "        vertical-align: middle;\n",
       "    }\n",
       "\n",
       "    .dataframe tbody tr th {\n",
       "        vertical-align: top;\n",
       "    }\n",
       "\n",
       "    .dataframe thead th {\n",
       "        text-align: right;\n",
       "    }\n",
       "</style>\n",
       "<table border=\"1\" class=\"dataframe\">\n",
       "  <thead>\n",
       "    <tr style=\"text-align: right;\">\n",
       "      <th></th>\n",
       "      <th>gender</th>\n",
       "      <th>race</th>\n",
       "      <th>international_stu</th>\n",
       "      <th>technical_skill</th>\n",
       "      <th>reading_score</th>\n",
       "      <th>Teamwork</th>\n",
       "      <th>Empathy_skills</th>\n",
       "      <th>Self-control</th>\n",
       "      <th>Ability_to_compromise</th>\n",
       "      <th>Ability_to_teach</th>\n",
       "      <th>Respect_for_others</th>\n",
       "      <th>Openness_to_Criticism</th>\n",
       "      <th>Sensitivity_and_Tact</th>\n",
       "      <th>Gaining_trust</th>\n",
       "      <th>Comfort_with_Differences</th>\n",
       "      <th>Listening_Skills</th>\n",
       "    </tr>\n",
       "  </thead>\n",
       "  <tbody>\n",
       "    <tr>\n",
       "      <th>0</th>\n",
       "      <td>female</td>\n",
       "      <td>Hispanic and Latino</td>\n",
       "      <td>domestic</td>\n",
       "      <td>no</td>\n",
       "      <td>4</td>\n",
       "      <td>87</td>\n",
       "      <td>80</td>\n",
       "      <td>97</td>\n",
       "      <td>75</td>\n",
       "      <td>99</td>\n",
       "      <td>77</td>\n",
       "      <td>91</td>\n",
       "      <td>72</td>\n",
       "      <td>92</td>\n",
       "      <td>76</td>\n",
       "      <td>78</td>\n",
       "    </tr>\n",
       "    <tr>\n",
       "      <th>1</th>\n",
       "      <td>male</td>\n",
       "      <td>white</td>\n",
       "      <td>domestic</td>\n",
       "      <td>no</td>\n",
       "      <td>2</td>\n",
       "      <td>85</td>\n",
       "      <td>73</td>\n",
       "      <td>83</td>\n",
       "      <td>79</td>\n",
       "      <td>75</td>\n",
       "      <td>64</td>\n",
       "      <td>76</td>\n",
       "      <td>75</td>\n",
       "      <td>74</td>\n",
       "      <td>84</td>\n",
       "      <td>82</td>\n",
       "    </tr>\n",
       "    <tr>\n",
       "      <th>2</th>\n",
       "      <td>male</td>\n",
       "      <td>white</td>\n",
       "      <td>domestic</td>\n",
       "      <td>no</td>\n",
       "      <td>1</td>\n",
       "      <td>89</td>\n",
       "      <td>63</td>\n",
       "      <td>87</td>\n",
       "      <td>87</td>\n",
       "      <td>95</td>\n",
       "      <td>88</td>\n",
       "      <td>72</td>\n",
       "      <td>70</td>\n",
       "      <td>81</td>\n",
       "      <td>90</td>\n",
       "      <td>99</td>\n",
       "    </tr>\n",
       "    <tr>\n",
       "      <th>3</th>\n",
       "      <td>male</td>\n",
       "      <td>white</td>\n",
       "      <td>domestic</td>\n",
       "      <td>no</td>\n",
       "      <td>1</td>\n",
       "      <td>80</td>\n",
       "      <td>74</td>\n",
       "      <td>77</td>\n",
       "      <td>89</td>\n",
       "      <td>82</td>\n",
       "      <td>79</td>\n",
       "      <td>93</td>\n",
       "      <td>76</td>\n",
       "      <td>89</td>\n",
       "      <td>72</td>\n",
       "      <td>76</td>\n",
       "    </tr>\n",
       "    <tr>\n",
       "      <th>4</th>\n",
       "      <td>female</td>\n",
       "      <td>black</td>\n",
       "      <td>domestic</td>\n",
       "      <td>yes</td>\n",
       "      <td>4</td>\n",
       "      <td>66</td>\n",
       "      <td>92</td>\n",
       "      <td>70</td>\n",
       "      <td>78</td>\n",
       "      <td>88</td>\n",
       "      <td>89</td>\n",
       "      <td>77</td>\n",
       "      <td>67</td>\n",
       "      <td>78</td>\n",
       "      <td>75</td>\n",
       "      <td>78</td>\n",
       "    </tr>\n",
       "    <tr>\n",
       "      <th>...</th>\n",
       "      <td>...</td>\n",
       "      <td>...</td>\n",
       "      <td>...</td>\n",
       "      <td>...</td>\n",
       "      <td>...</td>\n",
       "      <td>...</td>\n",
       "      <td>...</td>\n",
       "      <td>...</td>\n",
       "      <td>...</td>\n",
       "      <td>...</td>\n",
       "      <td>...</td>\n",
       "      <td>...</td>\n",
       "      <td>...</td>\n",
       "      <td>...</td>\n",
       "      <td>...</td>\n",
       "      <td>...</td>\n",
       "    </tr>\n",
       "    <tr>\n",
       "      <th>999995</th>\n",
       "      <td>male</td>\n",
       "      <td>white</td>\n",
       "      <td>domestic</td>\n",
       "      <td>no</td>\n",
       "      <td>4</td>\n",
       "      <td>76</td>\n",
       "      <td>82</td>\n",
       "      <td>82</td>\n",
       "      <td>91</td>\n",
       "      <td>79</td>\n",
       "      <td>84</td>\n",
       "      <td>77</td>\n",
       "      <td>78</td>\n",
       "      <td>84</td>\n",
       "      <td>82</td>\n",
       "      <td>77</td>\n",
       "    </tr>\n",
       "    <tr>\n",
       "      <th>999996</th>\n",
       "      <td>female</td>\n",
       "      <td>asian</td>\n",
       "      <td>domestic</td>\n",
       "      <td>no</td>\n",
       "      <td>3</td>\n",
       "      <td>81</td>\n",
       "      <td>85</td>\n",
       "      <td>85</td>\n",
       "      <td>78</td>\n",
       "      <td>88</td>\n",
       "      <td>85</td>\n",
       "      <td>93</td>\n",
       "      <td>82</td>\n",
       "      <td>68</td>\n",
       "      <td>62</td>\n",
       "      <td>77</td>\n",
       "    </tr>\n",
       "    <tr>\n",
       "      <th>999997</th>\n",
       "      <td>female</td>\n",
       "      <td>Hispanic and Latino</td>\n",
       "      <td>domestic</td>\n",
       "      <td>no</td>\n",
       "      <td>5</td>\n",
       "      <td>85</td>\n",
       "      <td>79</td>\n",
       "      <td>65</td>\n",
       "      <td>77</td>\n",
       "      <td>100</td>\n",
       "      <td>69</td>\n",
       "      <td>91</td>\n",
       "      <td>88</td>\n",
       "      <td>87</td>\n",
       "      <td>70</td>\n",
       "      <td>85</td>\n",
       "    </tr>\n",
       "    <tr>\n",
       "      <th>999998</th>\n",
       "      <td>female</td>\n",
       "      <td>white</td>\n",
       "      <td>domestic</td>\n",
       "      <td>no</td>\n",
       "      <td>4</td>\n",
       "      <td>68</td>\n",
       "      <td>85</td>\n",
       "      <td>84</td>\n",
       "      <td>70</td>\n",
       "      <td>73</td>\n",
       "      <td>84</td>\n",
       "      <td>80</td>\n",
       "      <td>83</td>\n",
       "      <td>71</td>\n",
       "      <td>85</td>\n",
       "      <td>66</td>\n",
       "    </tr>\n",
       "    <tr>\n",
       "      <th>999999</th>\n",
       "      <td>male</td>\n",
       "      <td>Hispanic and Latino</td>\n",
       "      <td>domestic</td>\n",
       "      <td>no</td>\n",
       "      <td>1</td>\n",
       "      <td>91</td>\n",
       "      <td>60</td>\n",
       "      <td>67</td>\n",
       "      <td>69</td>\n",
       "      <td>95</td>\n",
       "      <td>78</td>\n",
       "      <td>77</td>\n",
       "      <td>85</td>\n",
       "      <td>89</td>\n",
       "      <td>71</td>\n",
       "      <td>83</td>\n",
       "    </tr>\n",
       "  </tbody>\n",
       "</table>\n",
       "<p>1000000 rows × 16 columns</p>\n",
       "</div>"
      ],
      "text/plain": [
       "        gender                 race  ... Comfort_with_Differences Listening_Skills\n",
       "0       female  Hispanic and Latino  ...                       76               78\n",
       "1         male                white  ...                       84               82\n",
       "2         male                white  ...                       90               99\n",
       "3         male                white  ...                       72               76\n",
       "4       female                black  ...                       75               78\n",
       "...        ...                  ...  ...                      ...              ...\n",
       "999995    male                white  ...                       82               77\n",
       "999996  female                asian  ...                       62               77\n",
       "999997  female  Hispanic and Latino  ...                       70               85\n",
       "999998  female                white  ...                       85               66\n",
       "999999    male  Hispanic and Latino  ...                       71               83\n",
       "\n",
       "[1000000 rows x 16 columns]"
      ]
     },
     "execution_count": 4,
     "metadata": {},
     "output_type": "execute_result"
    }
   ],
   "source": [
    "df = pd.read_csv('student_simulation.csv')\n",
    "df"
   ]
  },
  {
   "cell_type": "code",
   "execution_count": 5,
   "metadata": {
    "colab": {
     "base_uri": "https://localhost:8080/",
     "height": 461
    },
    "id": "v1fIigEoZ9sN",
    "outputId": "2bdc0840-696f-47c2-d3b2-0af0cf319f19"
   },
   "outputs": [
    {
     "data": {
      "text/html": [
       "<div>\n",
       "<style scoped>\n",
       "    .dataframe tbody tr th:only-of-type {\n",
       "        vertical-align: middle;\n",
       "    }\n",
       "\n",
       "    .dataframe tbody tr th {\n",
       "        vertical-align: top;\n",
       "    }\n",
       "\n",
       "    .dataframe thead th {\n",
       "        text-align: right;\n",
       "    }\n",
       "</style>\n",
       "<table border=\"1\" class=\"dataframe\">\n",
       "  <thead>\n",
       "    <tr style=\"text-align: right;\">\n",
       "      <th></th>\n",
       "      <th>reading_score</th>\n",
       "      <th>Teamwork</th>\n",
       "      <th>Empathy_skills</th>\n",
       "      <th>Self-control</th>\n",
       "      <th>Ability_to_compromise</th>\n",
       "      <th>Ability_to_teach</th>\n",
       "      <th>Respect_for_others</th>\n",
       "      <th>Openness_to_Criticism</th>\n",
       "      <th>Sensitivity_and_Tact</th>\n",
       "      <th>Gaining_trust</th>\n",
       "      <th>Comfort_with_Differences</th>\n",
       "      <th>Listening_Skills</th>\n",
       "      <th>gender_male</th>\n",
       "      <th>international_stu_international</th>\n",
       "      <th>technical_skill_yes</th>\n",
       "      <th>race_asian</th>\n",
       "      <th>race_black</th>\n",
       "      <th>race_others</th>\n",
       "      <th>race_white</th>\n",
       "    </tr>\n",
       "  </thead>\n",
       "  <tbody>\n",
       "    <tr>\n",
       "      <th>0</th>\n",
       "      <td>4</td>\n",
       "      <td>87</td>\n",
       "      <td>80</td>\n",
       "      <td>97</td>\n",
       "      <td>75</td>\n",
       "      <td>99</td>\n",
       "      <td>77</td>\n",
       "      <td>91</td>\n",
       "      <td>72</td>\n",
       "      <td>92</td>\n",
       "      <td>76</td>\n",
       "      <td>78</td>\n",
       "      <td>0</td>\n",
       "      <td>0</td>\n",
       "      <td>0</td>\n",
       "      <td>0</td>\n",
       "      <td>0</td>\n",
       "      <td>0</td>\n",
       "      <td>0</td>\n",
       "    </tr>\n",
       "    <tr>\n",
       "      <th>1</th>\n",
       "      <td>2</td>\n",
       "      <td>85</td>\n",
       "      <td>73</td>\n",
       "      <td>83</td>\n",
       "      <td>79</td>\n",
       "      <td>75</td>\n",
       "      <td>64</td>\n",
       "      <td>76</td>\n",
       "      <td>75</td>\n",
       "      <td>74</td>\n",
       "      <td>84</td>\n",
       "      <td>82</td>\n",
       "      <td>1</td>\n",
       "      <td>0</td>\n",
       "      <td>0</td>\n",
       "      <td>0</td>\n",
       "      <td>0</td>\n",
       "      <td>0</td>\n",
       "      <td>1</td>\n",
       "    </tr>\n",
       "    <tr>\n",
       "      <th>2</th>\n",
       "      <td>1</td>\n",
       "      <td>89</td>\n",
       "      <td>63</td>\n",
       "      <td>87</td>\n",
       "      <td>87</td>\n",
       "      <td>95</td>\n",
       "      <td>88</td>\n",
       "      <td>72</td>\n",
       "      <td>70</td>\n",
       "      <td>81</td>\n",
       "      <td>90</td>\n",
       "      <td>99</td>\n",
       "      <td>1</td>\n",
       "      <td>0</td>\n",
       "      <td>0</td>\n",
       "      <td>0</td>\n",
       "      <td>0</td>\n",
       "      <td>0</td>\n",
       "      <td>1</td>\n",
       "    </tr>\n",
       "    <tr>\n",
       "      <th>3</th>\n",
       "      <td>1</td>\n",
       "      <td>80</td>\n",
       "      <td>74</td>\n",
       "      <td>77</td>\n",
       "      <td>89</td>\n",
       "      <td>82</td>\n",
       "      <td>79</td>\n",
       "      <td>93</td>\n",
       "      <td>76</td>\n",
       "      <td>89</td>\n",
       "      <td>72</td>\n",
       "      <td>76</td>\n",
       "      <td>1</td>\n",
       "      <td>0</td>\n",
       "      <td>0</td>\n",
       "      <td>0</td>\n",
       "      <td>0</td>\n",
       "      <td>0</td>\n",
       "      <td>1</td>\n",
       "    </tr>\n",
       "    <tr>\n",
       "      <th>4</th>\n",
       "      <td>4</td>\n",
       "      <td>66</td>\n",
       "      <td>92</td>\n",
       "      <td>70</td>\n",
       "      <td>78</td>\n",
       "      <td>88</td>\n",
       "      <td>89</td>\n",
       "      <td>77</td>\n",
       "      <td>67</td>\n",
       "      <td>78</td>\n",
       "      <td>75</td>\n",
       "      <td>78</td>\n",
       "      <td>0</td>\n",
       "      <td>0</td>\n",
       "      <td>1</td>\n",
       "      <td>0</td>\n",
       "      <td>1</td>\n",
       "      <td>0</td>\n",
       "      <td>0</td>\n",
       "    </tr>\n",
       "    <tr>\n",
       "      <th>...</th>\n",
       "      <td>...</td>\n",
       "      <td>...</td>\n",
       "      <td>...</td>\n",
       "      <td>...</td>\n",
       "      <td>...</td>\n",
       "      <td>...</td>\n",
       "      <td>...</td>\n",
       "      <td>...</td>\n",
       "      <td>...</td>\n",
       "      <td>...</td>\n",
       "      <td>...</td>\n",
       "      <td>...</td>\n",
       "      <td>...</td>\n",
       "      <td>...</td>\n",
       "      <td>...</td>\n",
       "      <td>...</td>\n",
       "      <td>...</td>\n",
       "      <td>...</td>\n",
       "      <td>...</td>\n",
       "    </tr>\n",
       "    <tr>\n",
       "      <th>999995</th>\n",
       "      <td>4</td>\n",
       "      <td>76</td>\n",
       "      <td>82</td>\n",
       "      <td>82</td>\n",
       "      <td>91</td>\n",
       "      <td>79</td>\n",
       "      <td>84</td>\n",
       "      <td>77</td>\n",
       "      <td>78</td>\n",
       "      <td>84</td>\n",
       "      <td>82</td>\n",
       "      <td>77</td>\n",
       "      <td>1</td>\n",
       "      <td>0</td>\n",
       "      <td>0</td>\n",
       "      <td>0</td>\n",
       "      <td>0</td>\n",
       "      <td>0</td>\n",
       "      <td>1</td>\n",
       "    </tr>\n",
       "    <tr>\n",
       "      <th>999996</th>\n",
       "      <td>3</td>\n",
       "      <td>81</td>\n",
       "      <td>85</td>\n",
       "      <td>85</td>\n",
       "      <td>78</td>\n",
       "      <td>88</td>\n",
       "      <td>85</td>\n",
       "      <td>93</td>\n",
       "      <td>82</td>\n",
       "      <td>68</td>\n",
       "      <td>62</td>\n",
       "      <td>77</td>\n",
       "      <td>0</td>\n",
       "      <td>0</td>\n",
       "      <td>0</td>\n",
       "      <td>1</td>\n",
       "      <td>0</td>\n",
       "      <td>0</td>\n",
       "      <td>0</td>\n",
       "    </tr>\n",
       "    <tr>\n",
       "      <th>999997</th>\n",
       "      <td>5</td>\n",
       "      <td>85</td>\n",
       "      <td>79</td>\n",
       "      <td>65</td>\n",
       "      <td>77</td>\n",
       "      <td>100</td>\n",
       "      <td>69</td>\n",
       "      <td>91</td>\n",
       "      <td>88</td>\n",
       "      <td>87</td>\n",
       "      <td>70</td>\n",
       "      <td>85</td>\n",
       "      <td>0</td>\n",
       "      <td>0</td>\n",
       "      <td>0</td>\n",
       "      <td>0</td>\n",
       "      <td>0</td>\n",
       "      <td>0</td>\n",
       "      <td>0</td>\n",
       "    </tr>\n",
       "    <tr>\n",
       "      <th>999998</th>\n",
       "      <td>4</td>\n",
       "      <td>68</td>\n",
       "      <td>85</td>\n",
       "      <td>84</td>\n",
       "      <td>70</td>\n",
       "      <td>73</td>\n",
       "      <td>84</td>\n",
       "      <td>80</td>\n",
       "      <td>83</td>\n",
       "      <td>71</td>\n",
       "      <td>85</td>\n",
       "      <td>66</td>\n",
       "      <td>0</td>\n",
       "      <td>0</td>\n",
       "      <td>0</td>\n",
       "      <td>0</td>\n",
       "      <td>0</td>\n",
       "      <td>0</td>\n",
       "      <td>1</td>\n",
       "    </tr>\n",
       "    <tr>\n",
       "      <th>999999</th>\n",
       "      <td>1</td>\n",
       "      <td>91</td>\n",
       "      <td>60</td>\n",
       "      <td>67</td>\n",
       "      <td>69</td>\n",
       "      <td>95</td>\n",
       "      <td>78</td>\n",
       "      <td>77</td>\n",
       "      <td>85</td>\n",
       "      <td>89</td>\n",
       "      <td>71</td>\n",
       "      <td>83</td>\n",
       "      <td>1</td>\n",
       "      <td>0</td>\n",
       "      <td>0</td>\n",
       "      <td>0</td>\n",
       "      <td>0</td>\n",
       "      <td>0</td>\n",
       "      <td>0</td>\n",
       "    </tr>\n",
       "  </tbody>\n",
       "</table>\n",
       "<p>1000000 rows × 19 columns</p>\n",
       "</div>"
      ],
      "text/plain": [
       "        reading_score  Teamwork  ...  race_others  race_white\n",
       "0                   4        87  ...            0           0\n",
       "1                   2        85  ...            0           1\n",
       "2                   1        89  ...            0           1\n",
       "3                   1        80  ...            0           1\n",
       "4                   4        66  ...            0           0\n",
       "...               ...       ...  ...          ...         ...\n",
       "999995              4        76  ...            0           1\n",
       "999996              3        81  ...            0           0\n",
       "999997              5        85  ...            0           0\n",
       "999998              4        68  ...            0           1\n",
       "999999              1        91  ...            0           0\n",
       "\n",
       "[1000000 rows x 19 columns]"
      ]
     },
     "execution_count": 5,
     "metadata": {},
     "output_type": "execute_result"
    }
   ],
   "source": [
    "dt = pd.get_dummies(data=df,columns=['gender','international_stu','technical_skill','race'],drop_first=True)\n",
    "dt"
   ]
  },
  {
   "cell_type": "code",
   "execution_count": 6,
   "metadata": {
    "colab": {
     "base_uri": "https://localhost:8080/"
    },
    "id": "IOjJvz5uaAXT",
    "outputId": "5bbe254d-452e-4b8f-a53a-b1be3b872009"
   },
   "outputs": [
    {
     "data": {
      "text/plain": [
       "array([[ 7.45751793e-01,  7.76994115e-01, -1.13892189e-03, ...,\n",
       "        -3.87257729e-01, -2.09521093e-01, -1.19969757e+00],\n",
       "       [-1.05035974e+00,  5.55027664e-01, -7.78408417e-01, ...,\n",
       "        -3.87257729e-01, -2.09521093e-01,  8.33543405e-01],\n",
       "       [-1.94841550e+00,  9.98960565e-01, -1.88879341e+00, ...,\n",
       "        -3.87257729e-01, -2.09521093e-01,  8.33543405e-01],\n",
       "       ...,\n",
       "       [ 1.64380756e+00,  5.55027664e-01, -1.12177421e-01, ...,\n",
       "        -3.87257729e-01, -2.09521093e-01, -1.19969757e+00],\n",
       "       [ 7.45751793e-01, -1.33168716e+00,  5.54053575e-01, ...,\n",
       "        -3.87257729e-01, -2.09521093e-01,  8.33543405e-01],\n",
       "       [-1.94841550e+00,  1.22092702e+00, -2.22190891e+00, ...,\n",
       "        -3.87257729e-01, -2.09521093e-01, -1.19969757e+00]])"
      ]
     },
     "execution_count": 6,
     "metadata": {},
     "output_type": "execute_result"
    }
   ],
   "source": [
    "scaler = StandardScaler()\n",
    "ds = scaler.fit_transform(dt)\n",
    "ds"
   ]
  },
  {
   "cell_type": "code",
   "execution_count": 7,
   "metadata": {
    "id": "hSjECYVpaIJ0"
   },
   "outputs": [],
   "source": [
    "from __future__ import print_function\n",
    "import numpy as np\n",
    "import h5py\n",
    "import glob\n",
    "import math\n",
    "import os\n",
    "import shutil\n",
    "from scipy import signal\n",
    "from scipy.signal import butter, lfilter\n",
    "from keras.layers import Input, Dense, Conv1D, MaxPooling1D, UpSampling1D, Flatten, Dropout, Reshape \n",
    "from keras.layers import Bidirectional, BatchNormalization, ZeroPadding1D, Conv2DTranspose\n",
    "from keras.models import Model\n",
    "from keras import backend as K\n",
    "from tensorflow.keras.optimizers import SGD, Adam\n",
    "from keras import regularizers\n",
    "from tensorflow.python.keras.layers import Layer, InputSpec\n",
    "from keras.callbacks import ModelCheckpoint, LearningRateScheduler, ReduceLROnPlateau, EarlyStopping\n",
    "from keras.initializers import VarianceScaling\n",
    "from keras.callbacks import CSVLogger\n",
    "from scipy.optimize import linear_sum_assignment as linear_assignment\n",
    "from sklearn.decomposition import PCA\n",
    "from sklearn.cluster import KMeans\n",
    "import matplotlib.pyplot as plt\n",
    "from matplotlib.pyplot import savefig\n",
    "\n",
    "import seaborn as sns\n",
    "sns.set_style('darkgrid')\n",
    "sns.set_palette('muted')"
   ]
  },
  {
   "cell_type": "code",
   "execution_count": 8,
   "metadata": {
    "colab": {
     "base_uri": "https://localhost:8080/"
    },
    "id": "XZRdda9iaby4",
    "outputId": "5551e60a-8509-417c-c955-d337f310dc32"
   },
   "outputs": [
    {
     "name": "stdout",
     "output_type": "stream",
     "text": [
      "Model: \"autoencoder\"\n",
      "_________________________________________________________________\n",
      " Layer (type)                Output Shape              Param #   \n",
      "=================================================================\n",
      " input_1 (InputLayer)        [(None, 19, 1)]           0         \n",
      "                                                                 \n",
      " conv1d (Conv1D)             (None, 19, 4)             80        \n",
      "                                                                 \n",
      " max_pooling1d (MaxPooling1D  (None, 19, 4)            0         \n",
      " )                                                               \n",
      "                                                                 \n",
      " conv1d_1 (Conv1D)           (None, 19, 2)             154       \n",
      "                                                                 \n",
      " max_pooling1d_1 (MaxPooling  (None, 19, 2)            0         \n",
      " 1D)                                                             \n",
      "                                                                 \n",
      " flatten (Flatten)           (None, 38)                0         \n",
      "                                                                 \n",
      " reshape (Reshape)           (None, 19, 2)             0         \n",
      "                                                                 \n",
      " conv1d_2 (Conv1D)           (None, 19, 2)             78        \n",
      "                                                                 \n",
      " up_sampling1d (UpSampling1D  (None, 19, 2)            0         \n",
      " )                                                               \n",
      "                                                                 \n",
      " conv1d_3 (Conv1D)           (None, 19, 4)             156       \n",
      "                                                                 \n",
      " up_sampling1d_1 (UpSampling  (None, 19, 4)            0         \n",
      " 1D)                                                             \n",
      "                                                                 \n",
      " conv1d_4 (Conv1D)           (None, 19, 1)             77        \n",
      "                                                                 \n",
      "=================================================================\n",
      "Total params: 545\n",
      "Trainable params: 545\n",
      "Non-trainable params: 0\n",
      "_________________________________________________________________\n"
     ]
    }
   ],
   "source": [
    "inp = Input(shape=(19,1))  \n",
    "e = Conv1D(4, (19, ), activation='tanh', padding='same')(inp)\n",
    "e = MaxPooling1D((1, ), padding='same')(e)\n",
    "e = Conv1D(2, (19, ), activation='tanh', padding='same')(e)\n",
    "e = MaxPooling1D((1, ), padding='same')(e)\n",
    "\n",
    "shape_before_flattening = K.int_shape(e)\n",
    "encoded = Flatten()(e)\n",
    "d = Reshape(shape_before_flattening[1:])(encoded)\n",
    "\n",
    "d = Conv1D(2, (19, ), activation='tanh', padding='same')(d)\n",
    "d = UpSampling1D(1)(d)\n",
    "d = Conv1D(4, (19, ), activation='tanh', padding='same')(d)\n",
    "d = UpSampling1D(1)(d)\n",
    "decoded = Conv1D(1, (19, ), padding='same')(d)\n",
    "\n",
    "autoencoder = Model(inputs=inp, outputs=decoded, name='autoencoder')\n",
    "encoder = Model(inputs=inp, outputs=encoded, name='encoder')\n",
    "autoencoder.summary()"
   ]
  },
  {
   "cell_type": "code",
   "execution_count": 10,
   "metadata": {
    "colab": {
     "base_uri": "https://localhost:8080/",
     "height": 1000
    },
    "id": "bNr6uk-sanF5",
    "outputId": "7079d3bd-a1e3-4307-b722-019a4ca85da0"
   },
   "outputs": [
    {
     "data": {
      "image/png": "[encoded data removed]",
      "text/plain": [
       "<IPython.core.display.Image object>"
      ]
     },
     "execution_count": 10,
     "metadata": {},
     "output_type": "execute_result"
    }
   ],
   "source": [
    "from IPython.display import Image\n",
    "from keras.utils.vis_utils import model_to_dot\n",
    "G = model_to_dot(autoencoder, show_shapes = True)\n",
    "Image (G.create (prog = \"dot\", format = \"png\"))"
   ]
  },
  {
   "cell_type": "code",
   "execution_count": 11,
   "metadata": {
    "colab": {
     "base_uri": "https://localhost:8080/"
    },
    "id": "eO0jmlHkaqIV",
    "outputId": "883fa6bc-a04c-4b74-8fa9-0d910958ee70"
   },
   "outputs": [
    {
     "name": "stdout",
     "output_type": "stream",
     "text": [
      "Epoch 1/10\n",
      "7813/7813 [==============================] - 84s 10ms/step - loss: 0.0132 - val_loss: 2.9847e-04\n",
      "Epoch 2/10\n",
      "7813/7813 [==============================] - 76s 10ms/step - loss: 1.9449e-04 - val_loss: 1.3813e-04\n",
      "Epoch 3/10\n",
      "7813/7813 [==============================] - 75s 10ms/step - loss: 1.1053e-04 - val_loss: 1.2463e-04\n",
      "Epoch 4/10\n",
      "7813/7813 [==============================] - 75s 10ms/step - loss: 8.5037e-05 - val_loss: 8.9497e-05\n",
      "Epoch 5/10\n",
      "7813/7813 [==============================] - 75s 10ms/step - loss: 7.2863e-05 - val_loss: 7.9785e-05\n",
      "Epoch 6/10\n",
      "7813/7813 [==============================] - 94s 12ms/step - loss: 6.3989e-05 - val_loss: 6.8329e-05\n",
      "Epoch 7/10\n",
      "7813/7813 [==============================] - 93s 12ms/step - loss: 5.9006e-05 - val_loss: 4.9036e-05\n",
      "Epoch 8/10\n",
      "7813/7813 [==============================] - 75s 10ms/step - loss: 5.4574e-05 - val_loss: 5.4052e-05\n",
      "Epoch 9/10\n",
      "7813/7813 [==============================] - 93s 12ms/step - loss: 5.1571e-05 - val_loss: 4.0977e-05\n",
      "Epoch 10/10\n",
      "7813/7813 [==============================] - 74s 10ms/step - loss: 4.9143e-05 - val_loss: 4.0592e-05\n"
     ]
    },
    {
     "data": {
      "text/plain": [
       "<keras.callbacks.History at 0x7f2443b526d0>"
      ]
     },
     "execution_count": 11,
     "metadata": {},
     "output_type": "execute_result"
    }
   ],
   "source": [
    "autoencoder.compile(optimizer='adam', loss='mse')\n",
    "\n",
    "autoencoder.fit(ds, ds, batch_size=128, epochs=10, validation_data=(ds,ds))"
   ]
  },
  {
   "cell_type": "code",
   "execution_count": 26,
   "metadata": {
    "id": "Gi8TPYTygSC0"
   },
   "outputs": [],
   "source": [
    "encoder.save('encoder.h5')"
   ]
  },
  {
   "cell_type": "code",
   "execution_count": 54,
   "metadata": {
    "id": "cg0U3wD3ePJ-"
   },
   "outputs": [],
   "source": [
    "n_clusters = 5\n",
    "kmeans = KMeans(n_clusters=n_clusters, n_init=20)\n",
    "y_pred = kmeans.fit_predict(encoder.predict(ds))"
   ]
  },
  {
   "cell_type": "code",
   "execution_count": 55,
   "metadata": {
    "colab": {
     "base_uri": "https://localhost:8080/",
     "height": 423
    },
    "id": "M_7PWKidf5Uc",
    "outputId": "19b91a36-052d-4d60-c014-0c8f1617dbc5"
   },
   "outputs": [
    {
     "data": {
      "text/html": [
       "<div>\n",
       "<style scoped>\n",
       "    .dataframe tbody tr th:only-of-type {\n",
       "        vertical-align: middle;\n",
       "    }\n",
       "\n",
       "    .dataframe tbody tr th {\n",
       "        vertical-align: top;\n",
       "    }\n",
       "\n",
       "    .dataframe thead th {\n",
       "        text-align: right;\n",
       "    }\n",
       "</style>\n",
       "<table border=\"1\" class=\"dataframe\">\n",
       "  <thead>\n",
       "    <tr style=\"text-align: right;\">\n",
       "      <th></th>\n",
       "      <th>label</th>\n",
       "    </tr>\n",
       "  </thead>\n",
       "  <tbody>\n",
       "    <tr>\n",
       "      <th>0</th>\n",
       "      <td>4</td>\n",
       "    </tr>\n",
       "    <tr>\n",
       "      <th>1</th>\n",
       "      <td>3</td>\n",
       "    </tr>\n",
       "    <tr>\n",
       "      <th>2</th>\n",
       "      <td>4</td>\n",
       "    </tr>\n",
       "    <tr>\n",
       "      <th>3</th>\n",
       "      <td>4</td>\n",
       "    </tr>\n",
       "    <tr>\n",
       "      <th>4</th>\n",
       "      <td>2</td>\n",
       "    </tr>\n",
       "    <tr>\n",
       "      <th>...</th>\n",
       "      <td>...</td>\n",
       "    </tr>\n",
       "    <tr>\n",
       "      <th>999995</th>\n",
       "      <td>4</td>\n",
       "    </tr>\n",
       "    <tr>\n",
       "      <th>999996</th>\n",
       "      <td>0</td>\n",
       "    </tr>\n",
       "    <tr>\n",
       "      <th>999997</th>\n",
       "      <td>4</td>\n",
       "    </tr>\n",
       "    <tr>\n",
       "      <th>999998</th>\n",
       "      <td>3</td>\n",
       "    </tr>\n",
       "    <tr>\n",
       "      <th>999999</th>\n",
       "      <td>3</td>\n",
       "    </tr>\n",
       "  </tbody>\n",
       "</table>\n",
       "<p>1000000 rows × 1 columns</p>\n",
       "</div>"
      ],
      "text/plain": [
       "        label\n",
       "0           4\n",
       "1           3\n",
       "2           4\n",
       "3           4\n",
       "4           2\n",
       "...       ...\n",
       "999995      4\n",
       "999996      0\n",
       "999997      4\n",
       "999998      3\n",
       "999999      3\n",
       "\n",
       "[1000000 rows x 1 columns]"
      ]
     },
     "execution_count": 55,
     "metadata": {},
     "output_type": "execute_result"
    }
   ],
   "source": [
    "label = pd.DataFrame(y_pred,columns=['label'])\n",
    "label"
   ]
  },
  {
   "cell_type": "code",
   "execution_count": 14,
   "metadata": {
    "id": "z37UzKbDgAAf"
   },
   "outputs": [],
   "source": [
    "ds_label = pd.concat([df, label], axis=1)\n",
    "\n",
    "compression_opts = dict(method='zip', archive_name='data_label.csv')  \n",
    "ds_label.to_csv('label.zip', index=False, compression=compression_opts)"
   ]
  },
  {
   "cell_type": "code",
   "execution_count": 56,
   "metadata": {
    "id": "2-AWcQuRITqH"
   },
   "outputs": [],
   "source": [
    "dd = pd.concat([dt, label], axis=1)"
   ]
  },
  {
   "cell_type": "code",
   "execution_count": 21,
   "metadata": {
    "id": "-rzEVSGUHUpE"
   },
   "outputs": [],
   "source": [
    "from sklearn.manifold import TSNE"
   ]
  },
  {
   "cell_type": "code",
   "execution_count": 57,
   "metadata": {
    "id": "Uh4bTQonHYZ9"
   },
   "outputs": [],
   "source": [
    "filter_data = dd[0:5000]\n",
    "label = np.array(filter_data.label)\n",
    "u_labels_filter = np.unique(filter_data.label)"
   ]
  },
  {
   "cell_type": "code",
   "execution_count": 52,
   "metadata": {
    "colab": {
     "base_uri": "https://localhost:8080/"
    },
    "id": "hE-e4iR1JFBB",
    "outputId": "b1ed0335-3adc-4598-8d44-0e36f87a472f"
   },
   "outputs": [
    {
     "name": "stderr",
     "output_type": "stream",
     "text": [
      "/usr/local/lib/python3.7/dist-packages/sklearn/manifold/_t_sne.py:783: FutureWarning: The default initialization in TSNE will change from 'random' to 'pca' in 1.2.\n",
      "  FutureWarning,\n",
      "/usr/local/lib/python3.7/dist-packages/sklearn/manifold/_t_sne.py:793: FutureWarning: The default learning rate in TSNE will change from 200.0 to 'auto' in 1.2.\n",
      "  FutureWarning,\n"
     ]
    }
   ],
   "source": [
    "enc = encoder.predict(ds[0:5000])\n",
    "redu = TSNE(random_state=123).fit_transform(enc)"
   ]
  },
  {
   "cell_type": "code",
   "execution_count": 58,
   "metadata": {
    "colab": {
     "base_uri": "https://localhost:8080/",
     "height": 265
    },
    "id": "kM_FIY4gG4zp",
    "outputId": "d7931770-be3f-4bd0-aa5b-454b7eceeb2c"
   },
   "outputs": [
    {
     "data": {
      "image/png": "[encoded data removed]",
      "text/plain": [
       "<Figure size 432x288 with 1 Axes>"
      ]
     },
     "metadata": {},
     "output_type": "display_data"
    }
   ],
   "source": [
    "# Plot 5000 samples\n",
    "for i in u_labels_filter:\n",
    "    plt.scatter(redu[label==i,0],redu[label==i,1],label=i)\n",
    "plt.legend()\n",
    "plt.show()"
   ]
  }
 ],
 "metadata": {
  "accelerator": "GPU",
  "colab": {
   "name": "BIA_686_Group_Formation2.ipynb",
   "provenance": []
  },
  "kernelspec": {
   "display_name": "Python 3 (ipykernel)",
   "language": "python",
   "name": "python3"
  },
  "language_info": {
   "codemirror_mode": {
    "name": "ipython",
    "version": 3
   },
   "file_extension": ".py",
   "mimetype": "text/x-python",
   "name": "python",
   "nbconvert_exporter": "python",
   "pygments_lexer": "ipython3",
   "version": "3.8.8"
  }
 },
 "nbformat": 4,
 "nbformat_minor": 1
}
